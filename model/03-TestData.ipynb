{
 "cells": [
  {
   "cell_type": "code",
   "execution_count": 1,
   "id": "51f029ca",
   "metadata": {},
   "outputs": [],
   "source": [
    "import pandas as pd\n",
    "import numpy as np\n",
    "import matplotlib.pyplot as plt\n",
    "from sklearn.feature_selection import SelectKBest, chi2\n",
    "from sklearn.preprocessing import LabelEncoder, StandardScaler\n",
    "from sklearn.model_selection import train_test_split"
   ]
  },
  {
   "cell_type": "code",
   "execution_count": 2,
   "id": "27236f5e",
   "metadata": {},
   "outputs": [],
   "source": [
    "data = pd.read_csv(\"../dataset/IDS_Dataset_processed.csv\")"
   ]
  },
  {
   "cell_type": "code",
   "execution_count": 3,
   "id": "ab0afda2",
   "metadata": {},
   "outputs": [
    {
     "name": "stdout",
     "output_type": "stream",
     "text": [
      "Dropping columns with >90% zeros: ['Loss', 'SrcLoss', 'DstLoss', 'pLoss', 'sTos_', 'dTos_', 'Proto_icmp', 'State_ECO', 'State_FIN', 'State_RST']\n"
     ]
    }
   ],
   "source": [
    "# a. Drop columns with >90% zeros\n",
    "zero_ratio = (data == 0).sum() / data.shape[0]\n",
    "columns_to_drop_zero = zero_ratio[zero_ratio > 0.9].index.tolist()\n",
    "print(\"Dropping columns with >90% zeros:\", columns_to_drop_zero)\n",
    "data = data.drop(columns=columns_to_drop_zero)\n",
    "\n",
    "# b. Drop columns with any null values\n",
    "data = data.dropna(axis=1)\n",
    "\n",
    "# c. Drop columns that are constant (only one unique value)\n",
    "data = data.loc[:, data.nunique() > 1]\n",
    "\n",
    "# d. Drop obviously irrelevant features (e.g., source/destination IPs/ports)\n",
    "columns_to_drop_irrelevant = [\n",
    "    'SrcIP', 'DstIP', 'SrcPort', 'DstPort',\n",
    "    'sVid_', 'dVid_', 'SrcTCPBase_', 'DstTCPBase_', 'Attack Type_'\n",
    "]\n",
    "data = data.drop(columns=[col for col in columns_to_drop_irrelevant if col in data.columns], errors='ignore')"
   ]
  },
  {
   "cell_type": "code",
   "execution_count": 4,
   "id": "5a1231db",
   "metadata": {},
   "outputs": [
    {
     "name": "stdout",
     "output_type": "stream",
     "text": [
      "         Seq       Dur  sHops  dHops  TotPkts  SrcPkts  DstPkts  TotBytes  \\\n",
      "0          1  0.000000    6.0   99.0        1        1        0        98   \n",
      "1          2  0.000000    6.0   99.0        1        1        0        98   \n",
      "2          3  4.998020   11.0    0.0      214      196       18    249093   \n",
      "3          4  4.998037   11.0    0.0      184      163       21    221712   \n",
      "4          5  4.999453   11.0    0.0      223      204       19    280216   \n",
      "...      ...       ...    ...    ...      ...      ...      ...       ...   \n",
      "1215885    1  0.000000    4.0    1.0        2        1        1       200   \n",
      "1215886    3  0.235607    1.0    6.0        6        3        3      3056   \n",
      "1215887  764  0.099927    0.0    0.0        3        2        1       252   \n",
      "1215888    3  1.307852    1.0    6.0        6        3        3       596   \n",
      "1215889    1  0.476803    4.0    1.0        4        2        2       392   \n",
      "\n",
      "         SrcBytes  DstBytes  ...  dTtl_  SrcWin_  DstWin_  Proto_tcp  \\\n",
      "0              98         0  ...    0.0  62592.0  64896.0      False   \n",
      "1              98         0  ...    0.0  62592.0  64896.0      False   \n",
      "2          244212      4881  ...   64.0  62592.0  64896.0      False   \n",
      "3          216245      5467  ...   64.0  62592.0  64896.0      False   \n",
      "4          275723      4493  ...   64.0  62592.0  64896.0      False   \n",
      "...           ...       ...  ...    ...      ...      ...        ...   \n",
      "1215885       102        98  ...  255.0  62592.0  64896.0      False   \n",
      "1215886       290      2766  ...  250.0  62592.0  64896.0      False   \n",
      "1215887       160        92  ...   64.0    213.0    273.0       True   \n",
      "1215888       306       290  ...  250.0  62592.0  64896.0      False   \n",
      "1215889       200       192  ...  255.0  62592.0  64896.0      False   \n",
      "\n",
      "         Proto_udp  Cause_Status  State_CON  State_INT  State_REQ  \\\n",
      "0            False         False      False      False      False   \n",
      "1            False         False      False      False      False   \n",
      "2             True         False       True      False      False   \n",
      "3             True         False       True      False      False   \n",
      "4             True         False       True      False      False   \n",
      "...            ...           ...        ...        ...        ...   \n",
      "1215885      False          True       True      False      False   \n",
      "1215886      False          True       True      False      False   \n",
      "1215887      False         False       True      False      False   \n",
      "1215888      False          True       True      False      False   \n",
      "1215889      False          True       True      False      False   \n",
      "\n",
      "         Label__Malicious  \n",
      "0                   False  \n",
      "1                   False  \n",
      "2                   False  \n",
      "3                   False  \n",
      "4                   False  \n",
      "...                   ...  \n",
      "1215885             False  \n",
      "1215886             False  \n",
      "1215887             False  \n",
      "1215888             False  \n",
      "1215889             False  \n",
      "\n",
      "[1215890 rows x 33 columns]\n"
     ]
    }
   ],
   "source": [
    "print(data)"
   ]
  },
  {
   "cell_type": "code",
   "execution_count": 5,
   "id": "8d53f8af",
   "metadata": {},
   "outputs": [
    {
     "name": "stdout",
     "output_type": "stream",
     "text": [
      "Index(['Seq', 'Dur', 'sHops', 'dHops', 'TotPkts', 'SrcPkts', 'DstPkts',\n",
      "       'TotBytes', 'SrcBytes', 'DstBytes', 'Offset', 'sMeanPktSz',\n",
      "       'dMeanPktSz', 'Load', 'SrcLoad', 'DstLoad', 'Rate', 'SrcRate',\n",
      "       'DstRate', 'TcpRtt', 'SynAck', 'AckDat', 'sTtl_', 'dTtl_', 'SrcWin_',\n",
      "       'DstWin_', 'Proto_tcp', 'Proto_udp', 'Cause_Status', 'State_CON',\n",
      "       'State_INT', 'State_REQ', 'Label__Malicious'],\n",
      "      dtype='object')\n"
     ]
    }
   ],
   "source": [
    "print(data.columns)"
   ]
  },
  {
   "cell_type": "code",
   "execution_count": 6,
   "id": "7b115c09",
   "metadata": {},
   "outputs": [],
   "source": [
    "# Encode Categorical Variables\n",
    "categorical_cols = data.select_dtypes(include=['object']).columns.tolist()\n",
    "encoders = {}\n",
    "for col in categorical_cols:\n",
    "    le = LabelEncoder()\n",
    "    data[col] = le.fit_transform(data[col])\n",
    "    encoders[col] = le\n",
    "\n",
    "# Separate Features & Target, then Apply Feature Selection\n",
    "target_col = \"Label__Malicious\"\n",
    "if target_col not in data.columns:\n",
    "    raise ValueError(f\"Target column '{target_col}' not found in the dataset!\")\n",
    "    \n",
    "y = data[target_col]\n",
    "X = data.drop(columns=[target_col])"
   ]
  },
  {
   "cell_type": "code",
   "execution_count": 7,
   "id": "14bf4a24",
   "metadata": {},
   "outputs": [
    {
     "name": "stdout",
     "output_type": "stream",
     "text": [
      "\n",
      "Pearson Correlation with Target:\n",
      "Proto_tcp       0.378910\n",
      "AckDat          0.293770\n",
      "TcpRtt          0.195211\n",
      "Dur             0.162825\n",
      "dTtl_           0.138945\n",
      "dMeanPktSz      0.108514\n",
      "Cause_Status    0.105866\n",
      "State_CON       0.056073\n",
      "State_REQ       0.025951\n",
      "SynAck          0.023518\n",
      "DstLoad         0.005740\n",
      "Load            0.005732\n",
      "SrcRate         0.005529\n",
      "DstRate         0.005333\n",
      "Rate            0.004231\n",
      "SrcLoad         0.003917\n",
      "DstWin_         0.001312\n",
      "DstPkts        -0.032770\n",
      "DstBytes       -0.034669\n",
      "SrcWin_        -0.089969\n",
      "TotPkts        -0.099134\n",
      "SrcPkts        -0.111448\n",
      "TotBytes       -0.117561\n",
      "SrcBytes       -0.121247\n",
      "sHops          -0.162490\n",
      "sMeanPktSz     -0.175133\n",
      "State_INT      -0.196258\n",
      "dHops          -0.233123\n",
      "Proto_udp      -0.289052\n",
      "sTtl_          -0.419852\n",
      "Offset         -0.456065\n",
      "Seq            -0.527940\n",
      "dtype: float64\n",
      "\n",
      "Selected Features based on Pearson correlation (|corr| > 0.1):\n",
      "['Seq', 'Dur', 'sHops', 'dHops', 'SrcPkts', 'TotBytes', 'SrcBytes', 'Offset', 'sMeanPktSz', 'dMeanPktSz', 'TcpRtt', 'AckDat', 'sTtl_', 'dTtl_', 'Proto_tcp', 'Proto_udp', 'Cause_Status', 'State_INT']\n"
     ]
    }
   ],
   "source": [
    "# Feature Selection Using Pearson Correlation\n",
    "pearson_corr = X.corrwith(y)\n",
    "print(\"\\nPearson Correlation with Target:\")\n",
    "print(pearson_corr.sort_values(ascending=False))\n",
    "\n",
    "# Select features with absolute correlation > threshold (e.g., 0.1)\n",
    "threshold = 0.1\n",
    "selected_features = pearson_corr[abs(pearson_corr) > threshold].index.tolist()\n",
    "print(f\"\\nSelected Features based on Pearson correlation (|corr| > {threshold}):\")\n",
    "print(selected_features)\n",
    "X = X[selected_features]"
   ]
  },
  {
   "cell_type": "code",
   "execution_count": 8,
   "id": "01864a63",
   "metadata": {},
   "outputs": [
    {
     "name": "stdout",
     "output_type": "stream",
     "text": [
      "\n",
      "Chi-square Test Results:\n",
      "         Feature    Chi2 Score  p-value\n",
      "7         Offset  2.339150e+12      0.0\n",
      "0            Seq  1.198481e+10      0.0\n",
      "6       SrcBytes  4.224510e+09      0.0\n",
      "5       TotBytes  4.197740e+09      0.0\n",
      "9     dMeanPktSz  1.070118e+07      0.0\n",
      "8     sMeanPktSz  1.069171e+07      0.0\n",
      "12         sTtl_  7.949852e+06      0.0\n",
      "13         dTtl_  1.433668e+06      0.0\n",
      "4        SrcPkts  1.383413e+06      0.0\n",
      "3          dHops  1.305621e+06      0.0\n",
      "2          sHops  2.024878e+05      0.0\n",
      "14     Proto_tcp  1.345595e+05      0.0\n",
      "1            Dur  6.756040e+04      0.0\n",
      "17     State_INT  3.417022e+04      0.0\n",
      "15     Proto_udp  2.613902e+04      0.0\n",
      "16  Cause_Status  5.460666e+03      0.0\n",
      "10        TcpRtt  3.013776e+03      0.0\n",
      "11        AckDat  2.849205e+03      0.0\n"
     ]
    }
   ],
   "source": [
    "# Optional: Chi-square Test (for non-negative features)\n",
    "# Chi-square test requires non-negative values. If needed, ensure that features are non-negative.\n",
    "chi2_selector = SelectKBest(score_func=chi2, k='all')\n",
    "chi2_selector.fit(X, y)\n",
    "chi2_scores = chi2_selector.scores_\n",
    "chi2_pvalues = chi2_selector.pvalues_\n",
    "chi2_results = pd.DataFrame({\n",
    "    'Feature': X.columns,\n",
    "    'Chi2 Score': chi2_scores,\n",
    "    'p-value': chi2_pvalues\n",
    "}).sort_values(by='Chi2 Score', ascending=False)\n",
    "print(\"\\nChi-square Test Results:\")\n",
    "print(chi2_results)"
   ]
  },
  {
   "cell_type": "code",
   "execution_count": 9,
   "id": "0533196c",
   "metadata": {},
   "outputs": [],
   "source": [
    "import joblib"
   ]
  },
  {
   "cell_type": "code",
   "execution_count": 10,
   "id": "f361d90d",
   "metadata": {},
   "outputs": [],
   "source": [
    "scaler = StandardScaler()\n",
    "X_scaled = scaler.fit_transform(X)\n",
    "# Split into Train (60%), Validation (20%), and Test (20%) Sets\n",
    "# First, split into 60% train and 40% temporary\n",
    "X_train, X_temp, y_train, y_temp = train_test_split(X, y, test_size=0.4, random_state=42, stratify=y)\n",
    "# Then, split temporary set equally into validation and test (20% each)\n",
    "X_val, X_test, y_val, y_test = train_test_split(X_temp, y_temp, test_size=0.5, random_state=42, stratify=y_temp)"
   ]
  },
  {
   "cell_type": "code",
   "execution_count": 11,
   "id": "59a893ed",
   "metadata": {},
   "outputs": [
    {
     "name": "stdout",
     "output_type": "stream",
     "text": [
      "           Seq       Dur  sHops  dHops  SrcPkts  TotBytes  SrcBytes    Offset  \\\n",
      "71792    18844  0.000000    1.0   99.0        1        42        42   1844360   \n",
      "1000203  10308  0.000000    1.0   99.0        1        42        42  18947356   \n",
      "844730   17916  2.589051    1.0   99.0        2        84        84   5842776   \n",
      "1167840  44762  0.000000    7.0   99.0        1        74        74  17006620   \n",
      "805712   28343  0.000000    1.0   99.0        1        42        42   2552292   \n",
      "...        ...       ...    ...    ...      ...       ...       ...       ...   \n",
      "575525    1939  0.000000    1.0    5.0        0        66         0   2281636   \n",
      "1151237  34295  0.000000    1.0    5.0        1       132        66  14117200   \n",
      "629888   22638  0.000000    1.0    5.0        1       132        66  13359684   \n",
      "871497   23583  2.577277    1.0   99.0        2        84        84   8099956   \n",
      "419810   98294  0.000000    1.0   99.0        1        42        42  31311072   \n",
      "\n",
      "         sMeanPktSz  dMeanPktSz    TcpRtt    AckDat  sTtl_  dTtl_  Proto_tcp  \\\n",
      "71792          42.0         0.0  0.000000  0.000000   63.0    0.0      False   \n",
      "1000203        42.0         0.0  0.000000  0.000000   63.0    0.0      False   \n",
      "844730         42.0         0.0  0.000000  0.000000   63.0    0.0      False   \n",
      "1167840        74.0         0.0  0.000000  0.000000  249.0    0.0      False   \n",
      "805712         42.0         0.0  0.000000  0.000000   63.0    0.0      False   \n",
      "...             ...         ...       ...       ...    ...    ...        ...   \n",
      "575525          0.0        66.0  0.053137  0.050883   63.0   59.0       True   \n",
      "1151237        66.0        66.0  0.030126  0.028832   63.0   59.0       True   \n",
      "629888         66.0        66.0  0.079945  0.076682   63.0   59.0       True   \n",
      "871497         42.0         0.0  0.000000  0.000000   63.0    0.0      False   \n",
      "419810         42.0         0.0  0.000000  0.000000   63.0    0.0      False   \n",
      "\n",
      "         Proto_udp  Cause_Status  State_INT  \n",
      "71792         True         False       True  \n",
      "1000203       True          True      False  \n",
      "844730        True          True      False  \n",
      "1167840       True         False       True  \n",
      "805712        True         False       True  \n",
      "...            ...           ...        ...  \n",
      "575525       False          True      False  \n",
      "1151237      False          True      False  \n",
      "629888       False          True      False  \n",
      "871497        True          True      False  \n",
      "419810        True          True      False  \n",
      "\n",
      "[243178 rows x 18 columns]\n"
     ]
    }
   ],
   "source": [
    "print(X_test)"
   ]
  },
  {
   "cell_type": "code",
   "execution_count": 12,
   "id": "d8a6e205",
   "metadata": {},
   "outputs": [
    {
     "name": "stdout",
     "output_type": "stream",
     "text": [
      "71792       True\n",
      "1000203     True\n",
      "844730      True\n",
      "1167840    False\n",
      "805712      True\n",
      "           ...  \n",
      "575525      True\n",
      "1151237     True\n",
      "629888      True\n",
      "871497      True\n",
      "419810     False\n",
      "Name: Label__Malicious, Length: 243178, dtype: bool\n"
     ]
    }
   ],
   "source": [
    "print(y_test)"
   ]
  },
  {
   "cell_type": "code",
   "execution_count": 13,
   "id": "347abaeb",
   "metadata": {},
   "outputs": [
    {
     "name": "stdout",
     "output_type": "stream",
     "text": [
      "243178\n",
      "243178\n"
     ]
    }
   ],
   "source": [
    "print(len(y_test))\n",
    "print(len(X_test))"
   ]
  },
  {
   "cell_type": "code",
   "execution_count": 14,
   "id": "842ff279",
   "metadata": {},
   "outputs": [
    {
     "name": "stdout",
     "output_type": "stream",
     "text": [
      "           Seq       Dur  sHops  dHops  SrcPkts  TotBytes  SrcBytes    Offset  \\\n",
      "71792    18844  0.000000    1.0   99.0        1        42        42   1844360   \n",
      "1000203  10308  0.000000    1.0   99.0        1        42        42  18947356   \n",
      "844730   17916  2.589051    1.0   99.0        2        84        84   5842776   \n",
      "1167840  44762  0.000000    7.0   99.0        1        74        74  17006620   \n",
      "805712   28343  0.000000    1.0   99.0        1        42        42   2552292   \n",
      "...        ...       ...    ...    ...      ...       ...       ...       ...   \n",
      "575525    1939  0.000000    1.0    5.0        0        66         0   2281636   \n",
      "1151237  34295  0.000000    1.0    5.0        1       132        66  14117200   \n",
      "629888   22638  0.000000    1.0    5.0        1       132        66  13359684   \n",
      "871497   23583  2.577277    1.0   99.0        2        84        84   8099956   \n",
      "419810   98294  0.000000    1.0   99.0        1        42        42  31311072   \n",
      "\n",
      "         sMeanPktSz  dMeanPktSz    TcpRtt    AckDat  sTtl_  dTtl_  Proto_tcp  \\\n",
      "71792          42.0         0.0  0.000000  0.000000   63.0    0.0      False   \n",
      "1000203        42.0         0.0  0.000000  0.000000   63.0    0.0      False   \n",
      "844730         42.0         0.0  0.000000  0.000000   63.0    0.0      False   \n",
      "1167840        74.0         0.0  0.000000  0.000000  249.0    0.0      False   \n",
      "805712         42.0         0.0  0.000000  0.000000   63.0    0.0      False   \n",
      "...             ...         ...       ...       ...    ...    ...        ...   \n",
      "575525          0.0        66.0  0.053137  0.050883   63.0   59.0       True   \n",
      "1151237        66.0        66.0  0.030126  0.028832   63.0   59.0       True   \n",
      "629888         66.0        66.0  0.079945  0.076682   63.0   59.0       True   \n",
      "871497         42.0         0.0  0.000000  0.000000   63.0    0.0      False   \n",
      "419810         42.0         0.0  0.000000  0.000000   63.0    0.0      False   \n",
      "\n",
      "         Proto_udp  Cause_Status  State_INT  \n",
      "71792         True         False       True  \n",
      "1000203       True          True      False  \n",
      "844730        True          True      False  \n",
      "1167840       True         False       True  \n",
      "805712        True         False       True  \n",
      "...            ...           ...        ...  \n",
      "575525       False          True      False  \n",
      "1151237      False          True      False  \n",
      "629888       False          True      False  \n",
      "871497        True          True      False  \n",
      "419810        True          True      False  \n",
      "\n",
      "[243178 rows x 18 columns]\n"
     ]
    }
   ],
   "source": [
    "print(X_test)"
   ]
  },
  {
   "cell_type": "code",
   "execution_count": 15,
   "id": "c2a81b5f",
   "metadata": {},
   "outputs": [],
   "source": [
    "df= X_test"
   ]
  },
  {
   "cell_type": "code",
   "execution_count": 16,
   "id": "b5f2dbf2",
   "metadata": {},
   "outputs": [
    {
     "name": "stdout",
     "output_type": "stream",
     "text": [
      "           Seq       Dur  sHops  dHops  SrcPkts  TotBytes  SrcBytes    Offset  \\\n",
      "71792    18844  0.000000    1.0   99.0        1        42        42   1844360   \n",
      "1000203  10308  0.000000    1.0   99.0        1        42        42  18947356   \n",
      "844730   17916  2.589051    1.0   99.0        2        84        84   5842776   \n",
      "1167840  44762  0.000000    7.0   99.0        1        74        74  17006620   \n",
      "805712   28343  0.000000    1.0   99.0        1        42        42   2552292   \n",
      "...        ...       ...    ...    ...      ...       ...       ...       ...   \n",
      "575525    1939  0.000000    1.0    5.0        0        66         0   2281636   \n",
      "1151237  34295  0.000000    1.0    5.0        1       132        66  14117200   \n",
      "629888   22638  0.000000    1.0    5.0        1       132        66  13359684   \n",
      "871497   23583  2.577277    1.0   99.0        2        84        84   8099956   \n",
      "419810   98294  0.000000    1.0   99.0        1        42        42  31311072   \n",
      "\n",
      "         sMeanPktSz  dMeanPktSz    TcpRtt    AckDat  sTtl_  dTtl_  Proto_tcp  \\\n",
      "71792          42.0         0.0  0.000000  0.000000   63.0    0.0      False   \n",
      "1000203        42.0         0.0  0.000000  0.000000   63.0    0.0      False   \n",
      "844730         42.0         0.0  0.000000  0.000000   63.0    0.0      False   \n",
      "1167840        74.0         0.0  0.000000  0.000000  249.0    0.0      False   \n",
      "805712         42.0         0.0  0.000000  0.000000   63.0    0.0      False   \n",
      "...             ...         ...       ...       ...    ...    ...        ...   \n",
      "575525          0.0        66.0  0.053137  0.050883   63.0   59.0       True   \n",
      "1151237        66.0        66.0  0.030126  0.028832   63.0   59.0       True   \n",
      "629888         66.0        66.0  0.079945  0.076682   63.0   59.0       True   \n",
      "871497         42.0         0.0  0.000000  0.000000   63.0    0.0      False   \n",
      "419810         42.0         0.0  0.000000  0.000000   63.0    0.0      False   \n",
      "\n",
      "         Proto_udp  Cause_Status  State_INT  \n",
      "71792         True         False       True  \n",
      "1000203       True          True      False  \n",
      "844730        True          True      False  \n",
      "1167840       True         False       True  \n",
      "805712        True         False       True  \n",
      "...            ...           ...        ...  \n",
      "575525       False          True      False  \n",
      "1151237      False          True      False  \n",
      "629888       False          True      False  \n",
      "871497        True          True      False  \n",
      "419810        True          True      False  \n",
      "\n",
      "[243178 rows x 18 columns]\n"
     ]
    }
   ],
   "source": [
    "print(df)"
   ]
  },
  {
   "cell_type": "code",
   "execution_count": 17,
   "id": "fa8f4100",
   "metadata": {},
   "outputs": [
    {
     "name": "stdout",
     "output_type": "stream",
     "text": [
      "          Seq       Dur  sHops  dHops  SrcPkts  TotBytes  SrcBytes    Offset  \\\n",
      "0       18844  0.000000    1.0   99.0        1        42        42   1844360   \n",
      "1       10308  0.000000    1.0   99.0        1        42        42  18947356   \n",
      "2       17916  2.589051    1.0   99.0        2        84        84   5842776   \n",
      "3       44762  0.000000    7.0   99.0        1        74        74  17006620   \n",
      "4       28343  0.000000    1.0   99.0        1        42        42   2552292   \n",
      "...       ...       ...    ...    ...      ...       ...       ...       ...   \n",
      "243173   1939  0.000000    1.0    5.0        0        66         0   2281636   \n",
      "243174  34295  0.000000    1.0    5.0        1       132        66  14117200   \n",
      "243175  22638  0.000000    1.0    5.0        1       132        66  13359684   \n",
      "243176  23583  2.577277    1.0   99.0        2        84        84   8099956   \n",
      "243177  98294  0.000000    1.0   99.0        1        42        42  31311072   \n",
      "\n",
      "        sMeanPktSz  dMeanPktSz    TcpRtt    AckDat  sTtl_  dTtl_  Proto_tcp  \\\n",
      "0             42.0         0.0  0.000000  0.000000   63.0    0.0      False   \n",
      "1             42.0         0.0  0.000000  0.000000   63.0    0.0      False   \n",
      "2             42.0         0.0  0.000000  0.000000   63.0    0.0      False   \n",
      "3             74.0         0.0  0.000000  0.000000  249.0    0.0      False   \n",
      "4             42.0         0.0  0.000000  0.000000   63.0    0.0      False   \n",
      "...            ...         ...       ...       ...    ...    ...        ...   \n",
      "243173         0.0        66.0  0.053137  0.050883   63.0   59.0       True   \n",
      "243174        66.0        66.0  0.030126  0.028832   63.0   59.0       True   \n",
      "243175        66.0        66.0  0.079945  0.076682   63.0   59.0       True   \n",
      "243176        42.0         0.0  0.000000  0.000000   63.0    0.0      False   \n",
      "243177        42.0         0.0  0.000000  0.000000   63.0    0.0      False   \n",
      "\n",
      "        Proto_udp  Cause_Status  State_INT  \n",
      "0            True         False       True  \n",
      "1            True          True      False  \n",
      "2            True          True      False  \n",
      "3            True         False       True  \n",
      "4            True         False       True  \n",
      "...           ...           ...        ...  \n",
      "243173      False          True      False  \n",
      "243174      False          True      False  \n",
      "243175      False          True      False  \n",
      "243176       True          True      False  \n",
      "243177       True          True      False  \n",
      "\n",
      "[243178 rows x 18 columns]\n"
     ]
    }
   ],
   "source": [
    "test_data = df.reset_index(drop=True)\n",
    "print(test_data)"
   ]
  },
  {
   "cell_type": "code",
   "execution_count": 18,
   "id": "883a27d6",
   "metadata": {},
   "outputs": [],
   "source": [
    "test_data[\"label\"] = pd.Series(y_test).reset_index(drop=True)"
   ]
  },
  {
   "cell_type": "code",
   "execution_count": 19,
   "id": "2cbb38fa",
   "metadata": {},
   "outputs": [
    {
     "name": "stdout",
     "output_type": "stream",
     "text": [
      "0          True\n",
      "1          True\n",
      "2          True\n",
      "3         False\n",
      "4          True\n",
      "          ...  \n",
      "243173     True\n",
      "243174     True\n",
      "243175     True\n",
      "243176     True\n",
      "243177    False\n",
      "Name: label, Length: 243178, dtype: bool\n"
     ]
    }
   ],
   "source": [
    "print(test_data[\"label\"])"
   ]
  },
  {
   "cell_type": "code",
   "execution_count": 20,
   "id": "4048b3b5",
   "metadata": {},
   "outputs": [],
   "source": [
    "test_data.to_csv(\"../dataset/TestData2.csv\")"
   ]
  }
 ],
 "metadata": {
  "kernelspec": {
   "display_name": "Python 3",
   "language": "python",
   "name": "python3"
  },
  "language_info": {
   "codemirror_mode": {
    "name": "ipython",
    "version": 3
   },
   "file_extension": ".py",
   "mimetype": "text/x-python",
   "name": "python",
   "nbconvert_exporter": "python",
   "pygments_lexer": "ipython3",
   "version": "3.12.3"
  }
 },
 "nbformat": 4,
 "nbformat_minor": 5
}
