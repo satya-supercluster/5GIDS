{
 "cells": [
  {
   "cell_type": "markdown",
   "metadata": {},
   "source": [
    "##### Import Libraries"
   ]
  },
  {
   "cell_type": "code",
   "execution_count": 1,
   "metadata": {},
   "outputs": [],
   "source": [
    "import numpy as np\n",
    "import pandas as pd\n",
    "from sklearn.model_selection import StratifiedKFold\n",
    "from sklearn.preprocessing import StandardScaler, LabelEncoder\n",
    "import tensorflow as tf\n",
    "from tensorflow.keras.models import Sequential\n",
    "from tensorflow.keras.layers import Dense, Dropout\n",
    "from tensorflow.keras.regularizers import l2\n",
    "import matplotlib.pyplot as plt"
   ]
  },
  {
   "cell_type": "code",
   "execution_count": 2,
   "metadata": {},
   "outputs": [],
   "source": [
    "data= pd.read_csv(\"../dataset/IDS_Dataset_processed.csv\")"
   ]
  },
  {
   "cell_type": "code",
   "execution_count": 3,
   "metadata": {},
   "outputs": [
    {
     "name": "stdout",
     "output_type": "stream",
     "text": [
      "<class 'pandas.core.frame.DataFrame'>\n",
      "RangeIndex: 1215890 entries, 0 to 1215889\n",
      "Data columns (total 48 columns):\n",
      " #   Column            Non-Null Count    Dtype  \n",
      "---  ------            --------------    -----  \n",
      " 0   Seq               1215890 non-null  int64  \n",
      " 1   Dur               1215890 non-null  float64\n",
      " 2   sHops             1215890 non-null  float64\n",
      " 3   dHops             1215890 non-null  float64\n",
      " 4   TotPkts           1215890 non-null  int64  \n",
      " 5   SrcPkts           1215890 non-null  int64  \n",
      " 6   DstPkts           1215890 non-null  int64  \n",
      " 7   TotBytes          1215890 non-null  int64  \n",
      " 8   SrcBytes          1215890 non-null  int64  \n",
      " 9   DstBytes          1215890 non-null  int64  \n",
      " 10  Offset            1215890 non-null  int64  \n",
      " 11  sMeanPktSz        1215890 non-null  float64\n",
      " 12  dMeanPktSz        1215890 non-null  float64\n",
      " 13  Load              1215890 non-null  float64\n",
      " 14  SrcLoad           1215890 non-null  float64\n",
      " 15  DstLoad           1215890 non-null  float64\n",
      " 16  Loss              1215890 non-null  int64  \n",
      " 17  SrcLoss           1215890 non-null  int64  \n",
      " 18  DstLoss           1215890 non-null  int64  \n",
      " 19  pLoss             1215890 non-null  float64\n",
      " 20  Rate              1215890 non-null  float64\n",
      " 21  SrcRate           1215890 non-null  float64\n",
      " 22  DstRate           1215890 non-null  float64\n",
      " 23  TcpRtt            1215890 non-null  float64\n",
      " 24  SynAck            1215890 non-null  float64\n",
      " 25  AckDat            1215890 non-null  float64\n",
      " 26  sTos_             1215890 non-null  float64\n",
      " 27  dTos_             1215890 non-null  float64\n",
      " 28  sTtl_             1215890 non-null  float64\n",
      " 29  dTtl_             1215890 non-null  float64\n",
      " 30  SrcWin_           1215890 non-null  float64\n",
      " 31  DstWin_           1215890 non-null  float64\n",
      " 32  sVid_             1215890 non-null  float64\n",
      " 33  dVid_             1215890 non-null  float64\n",
      " 34  SrcTCPBase_       1215890 non-null  float64\n",
      " 35  DstTCPBase_       1215890 non-null  float64\n",
      " 36  Attack Type_      1215890 non-null  object \n",
      " 37  Proto_icmp        1215890 non-null  bool   \n",
      " 38  Proto_tcp         1215890 non-null  bool   \n",
      " 39  Proto_udp         1215890 non-null  bool   \n",
      " 40  Cause_Status      1215890 non-null  bool   \n",
      " 41  State_CON         1215890 non-null  bool   \n",
      " 42  State_ECO         1215890 non-null  bool   \n",
      " 43  State_FIN         1215890 non-null  bool   \n",
      " 44  State_INT         1215890 non-null  bool   \n",
      " 45  State_REQ         1215890 non-null  bool   \n",
      " 46  State_RST         1215890 non-null  bool   \n",
      " 47  Label__Malicious  1215890 non-null  bool   \n",
      "dtypes: bool(11), float64(25), int64(11), object(1)\n",
      "memory usage: 356.0+ MB\n",
      "None\n",
      "   Seq       Dur  sHops  dHops  TotPkts  SrcPkts  DstPkts  TotBytes  SrcBytes  \\\n",
      "0    1  0.000000    6.0   99.0        1        1        0        98        98   \n",
      "1    2  0.000000    6.0   99.0        1        1        0        98        98   \n",
      "2    3  4.998020   11.0    0.0      214      196       18    249093    244212   \n",
      "3    4  4.998037   11.0    0.0      184      163       21    221712    216245   \n",
      "4    5  4.999453   11.0    0.0      223      204       19    280216    275723   \n",
      "\n",
      "   DstBytes  ...  Proto_tcp  Proto_udp  Cause_Status  State_CON  State_ECO  \\\n",
      "0         0  ...      False      False         False      False       True   \n",
      "1         0  ...      False      False         False      False       True   \n",
      "2      4881  ...      False       True         False       True      False   \n",
      "3      5467  ...      False       True         False       True      False   \n",
      "4      4493  ...      False       True         False       True      False   \n",
      "\n",
      "   State_FIN  State_INT  State_REQ  State_RST  Label__Malicious  \n",
      "0      False      False      False      False             False  \n",
      "1      False      False      False      False             False  \n",
      "2      False      False      False      False             False  \n",
      "3      False      False      False      False             False  \n",
      "4      False      False      False      False             False  \n",
      "\n",
      "[5 rows x 48 columns]\n"
     ]
    }
   ],
   "source": [
    "print(data.info())\n",
    "print(data.head())\n"
   ]
  },
  {
   "cell_type": "markdown",
   "metadata": {},
   "source": [
    "##### Preprocess Data"
   ]
  },
  {
   "cell_type": "code",
   "execution_count": 4,
   "metadata": {},
   "outputs": [],
   "source": [
    "numerical_cols= data.select_dtypes(include=[np.number]).columns.tolist()\n",
    "categorical_cols = data.select_dtypes(include=[bool]).columns.tolist()"
   ]
  },
  {
   "cell_type": "code",
   "execution_count": 5,
   "metadata": {},
   "outputs": [],
   "source": [
    "from sklearn.model_selection import train_test_split\n",
    "\n",
    "# Let's assume 'Label__Malicious' is the target variable\n",
    "X = data.drop(columns=[\"Label__Malicious\"])\n",
    "y = data[\"Label__Malicious\"]\n",
    "\n",
    "# First split into training and temp (temp will later be split into validation and test)\n",
    "X_train, X_temp, y_train, y_temp = train_test_split(X, y, test_size=0.2, random_state=42)\n",
    "\n",
    "# Then split temp into validation and test sets (each 10% of the full dataset)\n",
    "X_val, X_test, y_val, y_test = train_test_split(X_temp, y_temp, test_size=0.5, random_state=42)"
   ]
  },
  {
   "cell_type": "code",
   "execution_count": 6,
   "metadata": {},
   "outputs": [],
   "source": [
    "# Suppose these are categorical columns:\n",
    "categorical_cols = X_train.select_dtypes(include=[object]).columns.tolist()\n",
    "\n",
    "# Create a dictionary to store the encoders for each column\n",
    "encoders = {}\n",
    "for col in categorical_cols:\n",
    "    le = LabelEncoder()\n",
    "    # Fit on training data only\n",
    "    X_train[col] = le.fit_transform(X_train[col])\n",
    "    \n",
    "    # Transform validation and test sets using the same encoder\n",
    "    X_val[col] = le.transform(X_val[col])\n",
    "    X_test[col] = le.transform(X_test[col])\n",
    "    \n",
    "    encoders[col] = le  # Save encoder if you need to transform new data later\n"
   ]
  },
  {
   "cell_type": "code",
   "execution_count": 7,
   "metadata": {},
   "outputs": [],
   "source": [
    "# Initialize the scaler\n",
    "scaler = StandardScaler()\n",
    "\n",
    "# Fit only on training data and transform it\n",
    "X_train_scaled = scaler.fit_transform(X_train)\n",
    "\n",
    "# Use the same scaler to transform validation and test sets\n",
    "X_val_scaled = scaler.transform(X_val)\n",
    "X_test_scaled = scaler.transform(X_test)\n"
   ]
  },
  {
   "cell_type": "code",
   "execution_count": 9,
   "metadata": {},
   "outputs": [],
   "source": [
    "X_scaled = scaler.fit_transform(X.drop(columns=categorical_cols))"
   ]
  },
  {
   "cell_type": "code",
   "execution_count": 10,
   "metadata": {},
   "outputs": [
    {
     "name": "stdout",
     "output_type": "stream",
     "text": [
      "\n",
      "Fold 1\n"
     ]
    },
    {
     "name": "stderr",
     "output_type": "stream",
     "text": [
      "C:\\Users\\Satyam Gupta\\AppData\\Roaming\\Python\\Python312\\site-packages\\keras\\src\\layers\\core\\dense.py:87: UserWarning: Do not pass an `input_shape`/`input_dim` argument to a layer. When using Sequential models, prefer using an `Input(shape)` object as the first layer in the model instead.\n",
      "  super().__init__(activity_regularizer=activity_regularizer, **kwargs)\n"
     ]
    },
    {
     "name": "stdout",
     "output_type": "stream",
     "text": [
      "Epoch 1/20\n",
      "\u001b[1m25332/25332\u001b[0m \u001b[32m━━━━━━━━━━━━━━━━━━━━\u001b[0m\u001b[37m\u001b[0m \u001b[1m28s\u001b[0m 1ms/step - accuracy: 0.9854 - loss: 0.0877 - val_accuracy: 0.9943 - val_loss: 0.0314\n",
      "Epoch 2/20\n",
      "\u001b[1m25332/25332\u001b[0m \u001b[32m━━━━━━━━━━━━━━━━━━━━\u001b[0m\u001b[37m\u001b[0m \u001b[1m25s\u001b[0m 983us/step - accuracy: 0.9937 - loss: 0.0366 - val_accuracy: 0.9936 - val_loss: 0.0300\n",
      "Epoch 3/20\n",
      "\u001b[1m25332/25332\u001b[0m \u001b[32m━━━━━━━━━━━━━━━━━━━━\u001b[0m\u001b[37m\u001b[0m \u001b[1m25s\u001b[0m 997us/step - accuracy: 0.9943 - loss: 0.0335 - val_accuracy: 0.9981 - val_loss: 0.0233\n",
      "Epoch 4/20\n",
      "\u001b[1m25332/25332\u001b[0m \u001b[32m━━━━━━━━━━━━━━━━━━━━\u001b[0m\u001b[37m\u001b[0m \u001b[1m26s\u001b[0m 1ms/step - accuracy: 0.9946 - loss: 0.0327 - val_accuracy: 0.9974 - val_loss: 0.0220\n",
      "Epoch 5/20\n",
      "\u001b[1m25332/25332\u001b[0m \u001b[32m━━━━━━━━━━━━━━━━━━━━\u001b[0m\u001b[37m\u001b[0m \u001b[1m29s\u001b[0m 1ms/step - accuracy: 0.9948 - loss: 0.0311 - val_accuracy: 0.9972 - val_loss: 0.0230\n",
      "Epoch 6/20\n",
      "\u001b[1m25332/25332\u001b[0m \u001b[32m━━━━━━━━━━━━━━━━━━━━\u001b[0m\u001b[37m\u001b[0m \u001b[1m29s\u001b[0m 1ms/step - accuracy: 0.9950 - loss: 0.0303 - val_accuracy: 0.9978 - val_loss: 0.0199\n",
      "Epoch 7/20\n",
      "\u001b[1m25332/25332\u001b[0m \u001b[32m━━━━━━━━━━━━━━━━━━━━\u001b[0m\u001b[37m\u001b[0m \u001b[1m30s\u001b[0m 1ms/step - accuracy: 0.9948 - loss: 0.0307 - val_accuracy: 0.9982 - val_loss: 0.0212\n",
      "Epoch 8/20\n",
      "\u001b[1m25332/25332\u001b[0m \u001b[32m━━━━━━━━━━━━━━━━━━━━\u001b[0m\u001b[37m\u001b[0m \u001b[1m24s\u001b[0m 962us/step - accuracy: 0.9948 - loss: 0.0311 - val_accuracy: 0.9965 - val_loss: 0.0222\n",
      "Epoch 9/20\n",
      "\u001b[1m25332/25332\u001b[0m \u001b[32m━━━━━━━━━━━━━━━━━━━━\u001b[0m\u001b[37m\u001b[0m \u001b[1m26s\u001b[0m 1ms/step - accuracy: 0.9947 - loss: 0.0316 - val_accuracy: 0.9980 - val_loss: 0.0202\n",
      "Epoch 10/20\n",
      "\u001b[1m25332/25332\u001b[0m \u001b[32m━━━━━━━━━━━━━━━━━━━━\u001b[0m\u001b[37m\u001b[0m \u001b[1m31s\u001b[0m 1ms/step - accuracy: 0.9949 - loss: 0.0305 - val_accuracy: 0.9970 - val_loss: 0.0327\n",
      "Epoch 11/20\n",
      "\u001b[1m25332/25332\u001b[0m \u001b[32m━━━━━━━━━━━━━━━━━━━━\u001b[0m\u001b[37m\u001b[0m \u001b[1m26s\u001b[0m 1ms/step - accuracy: 0.9948 - loss: 0.0307 - val_accuracy: 0.9962 - val_loss: 0.0222\n",
      "Epoch 12/20\n",
      "\u001b[1m25332/25332\u001b[0m \u001b[32m━━━━━━━━━━━━━━━━━━━━\u001b[0m\u001b[37m\u001b[0m \u001b[1m25s\u001b[0m 967us/step - accuracy: 0.9949 - loss: 0.0306 - val_accuracy: 0.9963 - val_loss: 0.0220\n",
      "Epoch 13/20\n",
      "\u001b[1m25332/25332\u001b[0m \u001b[32m━━━━━━━━━━━━━━━━━━━━\u001b[0m\u001b[37m\u001b[0m \u001b[1m25s\u001b[0m 974us/step - accuracy: 0.9946 - loss: 0.0315 - val_accuracy: 0.9983 - val_loss: 0.0186\n",
      "Epoch 14/20\n",
      "\u001b[1m25332/25332\u001b[0m \u001b[32m━━━━━━━━━━━━━━━━━━━━\u001b[0m\u001b[37m\u001b[0m \u001b[1m27s\u001b[0m 1ms/step - accuracy: 0.9945 - loss: 0.0308 - val_accuracy: 0.9955 - val_loss: 0.0258\n",
      "Epoch 15/20\n",
      "\u001b[1m25332/25332\u001b[0m \u001b[32m━━━━━━━━━━━━━━━━━━━━\u001b[0m\u001b[37m\u001b[0m \u001b[1m27s\u001b[0m 1ms/step - accuracy: 0.9946 - loss: 0.0311 - val_accuracy: 0.9964 - val_loss: 0.0223\n",
      "Epoch 16/20\n",
      "\u001b[1m25332/25332\u001b[0m \u001b[32m━━━━━━━━━━━━━━━━━━━━\u001b[0m\u001b[37m\u001b[0m \u001b[1m28s\u001b[0m 1ms/step - accuracy: 0.9948 - loss: 0.0314 - val_accuracy: 0.9968 - val_loss: 0.0211\n",
      "Epoch 17/20\n",
      "\u001b[1m25332/25332\u001b[0m \u001b[32m━━━━━━━━━━━━━━━━━━━━\u001b[0m\u001b[37m\u001b[0m \u001b[1m28s\u001b[0m 1ms/step - accuracy: 0.9946 - loss: 0.0314 - val_accuracy: 0.9969 - val_loss: 0.0203\n",
      "Epoch 18/20\n",
      "\u001b[1m25332/25332\u001b[0m \u001b[32m━━━━━━━━━━━━━━━━━━━━\u001b[0m\u001b[37m\u001b[0m \u001b[1m28s\u001b[0m 1ms/step - accuracy: 0.9947 - loss: 0.0318 - val_accuracy: 0.9974 - val_loss: 0.0212\n",
      "Epoch 19/20\n",
      "\u001b[1m25332/25332\u001b[0m \u001b[32m━━━━━━━━━━━━━━━━━━━━\u001b[0m\u001b[37m\u001b[0m \u001b[1m28s\u001b[0m 1ms/step - accuracy: 0.9948 - loss: 0.0311 - val_accuracy: 0.9953 - val_loss: 0.0220\n",
      "Epoch 20/20\n",
      "\u001b[1m25332/25332\u001b[0m \u001b[32m━━━━━━━━━━━━━━━━━━━━\u001b[0m\u001b[37m\u001b[0m \u001b[1m25s\u001b[0m 996us/step - accuracy: 0.9948 - loss: 0.0305 - val_accuracy: 0.9973 - val_loss: 0.0213\n",
      "Fold 1 Accuracy: 0.9973\n"
     ]
    },
    {
     "data": {
      "image/png": "[encoded data removed]",
      "text/plain": [
       "<Figure size 800x600 with 1 Axes>"
      ]
     },
     "metadata": {},
     "output_type": "display_data"
    },
    {
     "name": "stdout",
     "output_type": "stream",
     "text": [
      "\n",
      "Fold 2\n",
      "Epoch 1/20\n"
     ]
    },
    {
     "name": "stderr",
     "output_type": "stream",
     "text": [
      "C:\\Users\\Satyam Gupta\\AppData\\Roaming\\Python\\Python312\\site-packages\\keras\\src\\layers\\core\\dense.py:87: UserWarning: Do not pass an `input_shape`/`input_dim` argument to a layer. When using Sequential models, prefer using an `Input(shape)` object as the first layer in the model instead.\n",
      "  super().__init__(activity_regularizer=activity_regularizer, **kwargs)\n"
     ]
    },
    {
     "name": "stdout",
     "output_type": "stream",
     "text": [
      "\u001b[1m25332/25332\u001b[0m \u001b[32m━━━━━━━━━━━━━━━━━━━━\u001b[0m\u001b[37m\u001b[0m \u001b[1m25s\u001b[0m 952us/step - accuracy: 0.9845 - loss: 0.0917 - val_accuracy: 0.9968 - val_loss: 0.0284\n",
      "Epoch 2/20\n",
      "\u001b[1m25332/25332\u001b[0m \u001b[32m━━━━━━━━━━━━━━━━━━━━\u001b[0m\u001b[37m\u001b[0m \u001b[1m25s\u001b[0m 989us/step - accuracy: 0.9938 - loss: 0.0366 - val_accuracy: 0.9979 - val_loss: 0.0233\n",
      "Epoch 3/20\n",
      "\u001b[1m25332/25332\u001b[0m \u001b[32m━━━━━━━━━━━━━━━━━━━━\u001b[0m\u001b[37m\u001b[0m \u001b[1m29s\u001b[0m 1ms/step - accuracy: 0.9944 - loss: 0.0331 - val_accuracy: 0.9983 - val_loss: 0.0204\n",
      "Epoch 4/20\n",
      "\u001b[1m25332/25332\u001b[0m \u001b[32m━━━━━━━━━━━━━━━━━━━━\u001b[0m\u001b[37m\u001b[0m \u001b[1m24s\u001b[0m 956us/step - accuracy: 0.9948 - loss: 0.0319 - val_accuracy: 0.9980 - val_loss: 0.0197\n",
      "Epoch 5/20\n",
      "\u001b[1m25332/25332\u001b[0m \u001b[32m━━━━━━━━━━━━━━━━━━━━\u001b[0m\u001b[37m\u001b[0m \u001b[1m29s\u001b[0m 1ms/step - accuracy: 0.9947 - loss: 0.0328 - val_accuracy: 0.9976 - val_loss: 0.0213\n",
      "Epoch 6/20\n",
      "\u001b[1m25332/25332\u001b[0m \u001b[32m━━━━━━━━━━━━━━━━━━━━\u001b[0m\u001b[37m\u001b[0m \u001b[1m26s\u001b[0m 1ms/step - accuracy: 0.9948 - loss: 0.0306 - val_accuracy: 0.9968 - val_loss: 0.0217\n",
      "Epoch 7/20\n",
      "\u001b[1m25332/25332\u001b[0m \u001b[32m━━━━━━━━━━━━━━━━━━━━\u001b[0m\u001b[37m\u001b[0m \u001b[1m25s\u001b[0m 997us/step - accuracy: 0.9947 - loss: 0.0335 - val_accuracy: 0.9984 - val_loss: 0.0207\n",
      "Epoch 8/20\n",
      "\u001b[1m25332/25332\u001b[0m \u001b[32m━━━━━━━━━━━━━━━━━━━━\u001b[0m\u001b[37m\u001b[0m \u001b[1m28s\u001b[0m 1ms/step - accuracy: 0.9950 - loss: 0.0301 - val_accuracy: 0.9971 - val_loss: 0.0201\n",
      "Epoch 9/20\n",
      "\u001b[1m25332/25332\u001b[0m \u001b[32m━━━━━━━━━━━━━━━━━━━━\u001b[0m\u001b[37m\u001b[0m \u001b[1m27s\u001b[0m 1ms/step - accuracy: 0.9950 - loss: 0.0297 - val_accuracy: 0.9956 - val_loss: 0.0251\n",
      "Epoch 10/20\n",
      "\u001b[1m25332/25332\u001b[0m \u001b[32m━━━━━━━━━━━━━━━━━━━━\u001b[0m\u001b[37m\u001b[0m \u001b[1m29s\u001b[0m 1ms/step - accuracy: 0.9949 - loss: 0.0313 - val_accuracy: 0.9987 - val_loss: 0.0173\n",
      "Epoch 11/20\n",
      "\u001b[1m25332/25332\u001b[0m \u001b[32m━━━━━━━━━━━━━━━━━━━━\u001b[0m\u001b[37m\u001b[0m \u001b[1m28s\u001b[0m 1ms/step - accuracy: 0.9950 - loss: 0.0302 - val_accuracy: 0.9963 - val_loss: 0.0218\n",
      "Epoch 12/20\n",
      "\u001b[1m25332/25332\u001b[0m \u001b[32m━━━━━━━━━━━━━━━━━━━━\u001b[0m\u001b[37m\u001b[0m \u001b[1m28s\u001b[0m 1ms/step - accuracy: 0.9949 - loss: 0.0308 - val_accuracy: 0.9979 - val_loss: 0.0187\n",
      "Epoch 13/20\n",
      "\u001b[1m25332/25332\u001b[0m \u001b[32m━━━━━━━━━━━━━━━━━━━━\u001b[0m\u001b[37m\u001b[0m \u001b[1m28s\u001b[0m 1ms/step - accuracy: 0.9952 - loss: 0.0324 - val_accuracy: 0.9981 - val_loss: 0.0201\n",
      "Epoch 14/20\n",
      "\u001b[1m25332/25332\u001b[0m \u001b[32m━━━━━━━━━━━━━━━━━━━━\u001b[0m\u001b[37m\u001b[0m \u001b[1m28s\u001b[0m 1ms/step - accuracy: 0.9947 - loss: 0.0305 - val_accuracy: 0.9980 - val_loss: 0.0193\n",
      "Epoch 15/20\n",
      "\u001b[1m25332/25332\u001b[0m \u001b[32m━━━━━━━━━━━━━━━━━━━━\u001b[0m\u001b[37m\u001b[0m \u001b[1m27s\u001b[0m 1ms/step - accuracy: 0.9947 - loss: 0.0376 - val_accuracy: 0.9979 - val_loss: 0.0192\n",
      "Epoch 16/20\n",
      "\u001b[1m25332/25332\u001b[0m \u001b[32m━━━━━━━━━━━━━━━━━━━━\u001b[0m\u001b[37m\u001b[0m \u001b[1m28s\u001b[0m 1ms/step - accuracy: 0.9947 - loss: 0.0315 - val_accuracy: 0.9949 - val_loss: 0.0258\n",
      "Epoch 17/20\n",
      "\u001b[1m25332/25332\u001b[0m \u001b[32m━━━━━━━━━━━━━━━━━━━━\u001b[0m\u001b[37m\u001b[0m \u001b[1m28s\u001b[0m 1ms/step - accuracy: 0.9949 - loss: 0.0317 - val_accuracy: 0.9950 - val_loss: 0.0265\n",
      "Epoch 18/20\n",
      "\u001b[1m25332/25332\u001b[0m \u001b[32m━━━━━━━━━━━━━━━━━━━━\u001b[0m\u001b[37m\u001b[0m \u001b[1m28s\u001b[0m 1ms/step - accuracy: 0.9950 - loss: 0.0297 - val_accuracy: 0.9977 - val_loss: 0.0173\n",
      "Epoch 19/20\n",
      "\u001b[1m25332/25332\u001b[0m \u001b[32m━━━━━━━━━━━━━━━━━━━━\u001b[0m\u001b[37m\u001b[0m \u001b[1m28s\u001b[0m 1ms/step - accuracy: 0.9949 - loss: 0.0302 - val_accuracy: 0.9980 - val_loss: 0.0175\n",
      "Epoch 20/20\n",
      "\u001b[1m25332/25332\u001b[0m \u001b[32m━━━━━━━━━━━━━━━━━━━━\u001b[0m\u001b[37m\u001b[0m \u001b[1m28s\u001b[0m 1ms/step - accuracy: 0.9950 - loss: 0.0301 - val_accuracy: 0.9979 - val_loss: 0.0185\n",
      "Fold 2 Accuracy: 0.9979\n"
     ]
    },
    {
     "data": {
      "image/png": "[encoded data removed]",
      "text/plain": [
       "<Figure size 800x600 with 1 Axes>"
      ]
     },
     "metadata": {},
     "output_type": "display_data"
    },
    {
     "name": "stdout",
     "output_type": "stream",
     "text": [
      "\n",
      "Fold 3\n",
      "Epoch 1/20\n"
     ]
    },
    {
     "name": "stderr",
     "output_type": "stream",
     "text": [
      "C:\\Users\\Satyam Gupta\\AppData\\Roaming\\Python\\Python312\\site-packages\\keras\\src\\layers\\core\\dense.py:87: UserWarning: Do not pass an `input_shape`/`input_dim` argument to a layer. When using Sequential models, prefer using an `Input(shape)` object as the first layer in the model instead.\n",
      "  super().__init__(activity_regularizer=activity_regularizer, **kwargs)\n"
     ]
    },
    {
     "name": "stdout",
     "output_type": "stream",
     "text": [
      "\u001b[1m25332/25332\u001b[0m \u001b[32m━━━━━━━━━━━━━━━━━━━━\u001b[0m\u001b[37m\u001b[0m \u001b[1m28s\u001b[0m 1ms/step - accuracy: 0.9849 - loss: 0.0891 - val_accuracy: 0.9953 - val_loss: 0.0304\n",
      "Epoch 2/20\n",
      "\u001b[1m25332/25332\u001b[0m \u001b[32m━━━━━━━━━━━━━━━━━━━━\u001b[0m\u001b[37m\u001b[0m \u001b[1m24s\u001b[0m 953us/step - accuracy: 0.9936 - loss: 0.0364 - val_accuracy: 0.9983 - val_loss: 0.0236\n",
      "Epoch 3/20\n",
      "\u001b[1m25332/25332\u001b[0m \u001b[32m━━━━━━━━━━━━━━━━━━━━\u001b[0m\u001b[37m\u001b[0m \u001b[1m25s\u001b[0m 969us/step - accuracy: 0.9945 - loss: 0.0324 - val_accuracy: 0.9980 - val_loss: 0.0227\n",
      "Epoch 4/20\n",
      "\u001b[1m25332/25332\u001b[0m \u001b[32m━━━━━━━━━━━━━━━━━━━━\u001b[0m\u001b[37m\u001b[0m \u001b[1m24s\u001b[0m 960us/step - accuracy: 0.9946 - loss: 0.0330 - val_accuracy: 0.9950 - val_loss: 0.0258\n",
      "Epoch 5/20\n",
      "\u001b[1m25332/25332\u001b[0m \u001b[32m━━━━━━━━━━━━━━━━━━━━\u001b[0m\u001b[37m\u001b[0m \u001b[1m24s\u001b[0m 951us/step - accuracy: 0.9947 - loss: 0.0314 - val_accuracy: 0.9972 - val_loss: 0.0226\n",
      "Epoch 6/20\n",
      "\u001b[1m25332/25332\u001b[0m \u001b[32m━━━━━━━━━━━━━━━━━━━━\u001b[0m\u001b[37m\u001b[0m \u001b[1m24s\u001b[0m 961us/step - accuracy: 0.9949 - loss: 0.0315 - val_accuracy: 0.9986 - val_loss: 0.0193\n",
      "Epoch 7/20\n",
      "\u001b[1m25332/25332\u001b[0m \u001b[32m━━━━━━━━━━━━━━━━━━━━\u001b[0m\u001b[37m\u001b[0m \u001b[1m25s\u001b[0m 972us/step - accuracy: 0.9951 - loss: 0.0298 - val_accuracy: 0.9943 - val_loss: 0.0281\n",
      "Epoch 8/20\n",
      "\u001b[1m25332/25332\u001b[0m \u001b[32m━━━━━━━━━━━━━━━━━━━━\u001b[0m\u001b[37m\u001b[0m \u001b[1m28s\u001b[0m 1ms/step - accuracy: 0.9950 - loss: 0.0298 - val_accuracy: 0.9981 - val_loss: 0.0195\n",
      "Epoch 9/20\n",
      "\u001b[1m25332/25332\u001b[0m \u001b[32m━━━━━━━━━━━━━━━━━━━━\u001b[0m\u001b[37m\u001b[0m \u001b[1m33s\u001b[0m 1ms/step - accuracy: 0.9949 - loss: 0.0304 - val_accuracy: 0.9923 - val_loss: 0.0299\n",
      "Epoch 10/20\n",
      "\u001b[1m25332/25332\u001b[0m \u001b[32m━━━━━━━━━━━━━━━━━━━━\u001b[0m\u001b[37m\u001b[0m \u001b[1m29s\u001b[0m 1ms/step - accuracy: 0.9951 - loss: 0.0289 - val_accuracy: 0.9968 - val_loss: 0.0209\n",
      "Epoch 11/20\n",
      "\u001b[1m25332/25332\u001b[0m \u001b[32m━━━━━━━━━━━━━━━━━━━━\u001b[0m\u001b[37m\u001b[0m \u001b[1m30s\u001b[0m 1ms/step - accuracy: 0.9948 - loss: 0.0302 - val_accuracy: 0.9917 - val_loss: 0.0386\n",
      "Epoch 12/20\n",
      "\u001b[1m25332/25332\u001b[0m \u001b[32m━━━━━━━━━━━━━━━━━━━━\u001b[0m\u001b[37m\u001b[0m \u001b[1m29s\u001b[0m 1ms/step - accuracy: 0.9948 - loss: 0.0299 - val_accuracy: 0.9973 - val_loss: 0.0205\n",
      "Epoch 13/20\n",
      "\u001b[1m25332/25332\u001b[0m \u001b[32m━━━━━━━━━━━━━━━━━━━━\u001b[0m\u001b[37m\u001b[0m \u001b[1m30s\u001b[0m 1ms/step - accuracy: 0.9948 - loss: 0.0299 - val_accuracy: 0.9983 - val_loss: 0.0180\n",
      "Epoch 14/20\n",
      "\u001b[1m25332/25332\u001b[0m \u001b[32m━━━━━━━━━━━━━━━━━━━━\u001b[0m\u001b[37m\u001b[0m \u001b[1m30s\u001b[0m 1ms/step - accuracy: 0.9948 - loss: 0.0309 - val_accuracy: 0.9977 - val_loss: 0.0201\n",
      "Epoch 15/20\n",
      "\u001b[1m25332/25332\u001b[0m \u001b[32m━━━━━━━━━━━━━━━━━━━━\u001b[0m\u001b[37m\u001b[0m \u001b[1m31s\u001b[0m 1ms/step - accuracy: 0.9949 - loss: 0.0307 - val_accuracy: 0.9976 - val_loss: 0.0195\n",
      "Epoch 16/20\n",
      "\u001b[1m25332/25332\u001b[0m \u001b[32m━━━━━━━━━━━━━━━━━━━━\u001b[0m\u001b[37m\u001b[0m \u001b[1m31s\u001b[0m 1ms/step - accuracy: 0.9950 - loss: 0.0309 - val_accuracy: 0.9984 - val_loss: 0.0194\n",
      "Epoch 17/20\n",
      "\u001b[1m25332/25332\u001b[0m \u001b[32m━━━━━━━━━━━━━━━━━━━━\u001b[0m\u001b[37m\u001b[0m \u001b[1m31s\u001b[0m 1ms/step - accuracy: 0.9949 - loss: 0.0310 - val_accuracy: 0.9977 - val_loss: 0.0194\n",
      "Epoch 18/20\n",
      "\u001b[1m25332/25332\u001b[0m \u001b[32m━━━━━━━━━━━━━━━━━━━━\u001b[0m\u001b[37m\u001b[0m \u001b[1m30s\u001b[0m 1ms/step - accuracy: 0.9951 - loss: 0.0300 - val_accuracy: 0.9975 - val_loss: 0.0203\n",
      "Epoch 19/20\n",
      "\u001b[1m25332/25332\u001b[0m \u001b[32m━━━━━━━━━━━━━━━━━━━━\u001b[0m\u001b[37m\u001b[0m \u001b[1m31s\u001b[0m 1ms/step - accuracy: 0.9953 - loss: 0.0294 - val_accuracy: 0.9979 - val_loss: 0.0192\n",
      "Epoch 20/20\n",
      "\u001b[1m25332/25332\u001b[0m \u001b[32m━━━━━━━━━━━━━━━━━━━━\u001b[0m\u001b[37m\u001b[0m \u001b[1m31s\u001b[0m 1ms/step - accuracy: 0.9949 - loss: 0.0319 - val_accuracy: 0.9975 - val_loss: 0.0213\n",
      "Fold 3 Accuracy: 0.9975\n"
     ]
    },
    {
     "data": {
      "image/png": "[encoded data removed]",
      "text/plain": [
       "<Figure size 800x600 with 1 Axes>"
      ]
     },
     "metadata": {},
     "output_type": "display_data"
    }
   ],
   "source": [
    "# Set Up 5-Fold Cross-Validation (No Sampling)\n",
    "skf = StratifiedKFold(n_splits=3, shuffle=True, random_state=42)\n",
    "fold_scores = []\n",
    "\n",
    "for fold, (train_index, test_index) in enumerate(skf.split(X_scaled, y), 1):\n",
    "    print(f\"\\nFold {fold}\")\n",
    "    \n",
    "    # Split data for this fold\n",
    "    X_train, X_test = X_scaled[train_index], X_scaled[test_index]\n",
    "    y_train, y_test = y[train_index], y[test_index]\n",
    "    \n",
    "    # Neural Network Model with regularization:\n",
    "    # - L2 regularization on Dense layers\n",
    "    # - Dropout layers for additional regularization\n",
    "    model = Sequential([\n",
    "        Dense(64, activation='relu', kernel_regularizer=l2(0.001), \n",
    "              input_shape=(X_train.shape[1],)),\n",
    "        Dropout(0.3),\n",
    "        Dense(32, activation='relu', kernel_regularizer=l2(0.001)),\n",
    "        Dropout(0.3),\n",
    "        Dense(1, activation='sigmoid')  # For binary classification\n",
    "    ])\n",
    "    model.compile(optimizer='adam', loss='binary_crossentropy', metrics=['accuracy'])\n",
    "    \n",
    "    # Train the model with validation_data set to the test set to track validation loss\n",
    "    history = model.fit(X_train, y_train,\n",
    "                        validation_data=(X_test, y_test),\n",
    "                        epochs=20,\n",
    "                        batch_size=32,\n",
    "                        verbose=1)\n",
    "    \n",
    "    # Evaluate on the test set for this fold\n",
    "    loss, accuracy = model.evaluate(X_test, y_test, verbose=0)\n",
    "    print(f\"Fold {fold} Accuracy: {accuracy:.4f}\")\n",
    "    fold_scores.append(accuracy)\n",
    "    \n",
    "    # Plot the training and validation loss for this fold\n",
    "    plt.figure(figsize=(8, 6))\n",
    "    plt.plot(history.history['loss'], label='Training Loss')\n",
    "    plt.plot(history.history['val_loss'], label='Validation Loss')\n",
    "    plt.title(f'Fold {fold} Loss Curves')\n",
    "    plt.xlabel('Epoch')\n",
    "    plt.ylabel('Loss')\n",
    "    plt.legend()\n",
    "    plt.show()\n"
   ]
  },
  {
   "cell_type": "markdown",
   "metadata": {},
   "source": [
    "##### Bringing everything together"
   ]
  },
  {
   "cell_type": "code",
   "execution_count": 11,
   "metadata": {},
   "outputs": [],
   "source": [
    "import pandas as pd\n",
    "import numpy as np\n",
    "import matplotlib.pyplot as plt\n",
    "\n",
    "# For feature selection\n",
    "from sklearn.feature_selection import SelectKBest, chi2\n",
    "\n",
    "# For encoding and scaling\n",
    "from sklearn.preprocessing import LabelEncoder, StandardScaler\n",
    "from sklearn.model_selection import train_test_split\n",
    "\n",
    "# For building the neural network\n",
    "import tensorflow as tf\n",
    "from tensorflow.keras.models import Sequential\n",
    "from tensorflow.keras.layers import Dense, Dropout\n",
    "from tensorflow.keras.regularizers import l2"
   ]
  },
  {
   "cell_type": "code",
   "execution_count": 12,
   "metadata": {},
   "outputs": [],
   "source": [
    "# Load the Dataset\n",
    "data = pd.read_csv(\"../dataset/IDS_Dataset_processed.csv\")"
   ]
  },
  {
   "cell_type": "markdown",
   "metadata": {},
   "source": [
    "##### Data Cleaning"
   ]
  },
  {
   "cell_type": "code",
   "execution_count": 13,
   "metadata": {},
   "outputs": [
    {
     "name": "stdout",
     "output_type": "stream",
     "text": [
      "Dropping columns with >90% zeros: ['Loss', 'SrcLoss', 'DstLoss', 'pLoss', 'sTos_', 'dTos_', 'Proto_icmp', 'State_ECO', 'State_FIN', 'State_RST']\n"
     ]
    }
   ],
   "source": [
    "# a. Drop columns with >90% zeros\n",
    "zero_ratio = (data == 0).sum() / data.shape[0]\n",
    "columns_to_drop_zero = zero_ratio[zero_ratio > 0.9].index.tolist()\n",
    "print(\"Dropping columns with >90% zeros:\", columns_to_drop_zero)\n",
    "data = data.drop(columns=columns_to_drop_zero)\n",
    "\n",
    "# b. Drop columns with any null values\n",
    "data = data.dropna(axis=1)\n",
    "\n",
    "# c. Drop columns that are constant (only one unique value)\n",
    "data = data.loc[:, data.nunique() > 1]\n",
    "\n",
    "# d. Drop obviously irrelevant features (e.g., source/destination IPs/ports)\n",
    "columns_to_drop_irrelevant = [\n",
    "    'SrcIP', 'DstIP', 'SrcPort', 'DstPort',\n",
    "    'sVid_', 'dVid_', 'SrcTCPBase_', 'DstTCPBase_', 'Attack Type_'\n",
    "]\n",
    "data = data.drop(columns=[col for col in columns_to_drop_irrelevant if col in data.columns], errors='ignore')"
   ]
  },
  {
   "cell_type": "code",
   "execution_count": 14,
   "metadata": {},
   "outputs": [
    {
     "name": "stdout",
     "output_type": "stream",
     "text": [
      "<class 'pandas.core.frame.DataFrame'>\n",
      "RangeIndex: 1215890 entries, 0 to 1215889\n",
      "Data columns (total 33 columns):\n",
      " #   Column            Non-Null Count    Dtype  \n",
      "---  ------            --------------    -----  \n",
      " 0   Seq               1215890 non-null  int64  \n",
      " 1   Dur               1215890 non-null  float64\n",
      " 2   sHops             1215890 non-null  float64\n",
      " 3   dHops             1215890 non-null  float64\n",
      " 4   TotPkts           1215890 non-null  int64  \n",
      " 5   SrcPkts           1215890 non-null  int64  \n",
      " 6   DstPkts           1215890 non-null  int64  \n",
      " 7   TotBytes          1215890 non-null  int64  \n",
      " 8   SrcBytes          1215890 non-null  int64  \n",
      " 9   DstBytes          1215890 non-null  int64  \n",
      " 10  Offset            1215890 non-null  int64  \n",
      " 11  sMeanPktSz        1215890 non-null  float64\n",
      " 12  dMeanPktSz        1215890 non-null  float64\n",
      " 13  Load              1215890 non-null  float64\n",
      " 14  SrcLoad           1215890 non-null  float64\n",
      " 15  DstLoad           1215890 non-null  float64\n",
      " 16  Rate              1215890 non-null  float64\n",
      " 17  SrcRate           1215890 non-null  float64\n",
      " 18  DstRate           1215890 non-null  float64\n",
      " 19  TcpRtt            1215890 non-null  float64\n",
      " 20  SynAck            1215890 non-null  float64\n",
      " 21  AckDat            1215890 non-null  float64\n",
      " 22  sTtl_             1215890 non-null  float64\n",
      " 23  dTtl_             1215890 non-null  float64\n",
      " 24  SrcWin_           1215890 non-null  float64\n",
      " 25  DstWin_           1215890 non-null  float64\n",
      " 26  Proto_tcp         1215890 non-null  bool   \n",
      " 27  Proto_udp         1215890 non-null  bool   \n",
      " 28  Cause_Status      1215890 non-null  bool   \n",
      " 29  State_CON         1215890 non-null  bool   \n",
      " 30  State_INT         1215890 non-null  bool   \n",
      " 31  State_REQ         1215890 non-null  bool   \n",
      " 32  Label__Malicious  1215890 non-null  bool   \n",
      "dtypes: bool(7), float64(18), int64(8)\n",
      "memory usage: 249.3 MB\n",
      "None\n"
     ]
    }
   ],
   "source": [
    "print(data.info())"
   ]
  },
  {
   "cell_type": "code",
   "execution_count": 15,
   "metadata": {},
   "outputs": [
    {
     "name": "stdout",
     "output_type": "stream",
     "text": [
      "Index(['Seq', 'Dur', 'sHops', 'dHops', 'TotPkts', 'SrcPkts', 'DstPkts',\n",
      "       'TotBytes', 'SrcBytes', 'DstBytes', 'Offset', 'sMeanPktSz',\n",
      "       'dMeanPktSz', 'Load', 'SrcLoad', 'DstLoad', 'Rate', 'SrcRate',\n",
      "       'DstRate', 'TcpRtt', 'SynAck', 'AckDat', 'sTtl_', 'dTtl_', 'SrcWin_',\n",
      "       'DstWin_', 'Proto_tcp', 'Proto_udp', 'Cause_Status', 'State_CON',\n",
      "       'State_INT', 'State_REQ', 'Label__Malicious'],\n",
      "      dtype='object')\n"
     ]
    }
   ],
   "source": [
    "print(data.columns)"
   ]
  },
  {
   "cell_type": "code",
   "execution_count": 16,
   "metadata": {},
   "outputs": [],
   "source": [
    "# Encode Categorical Variables\n",
    "categorical_cols = data.select_dtypes(include=['object']).columns.tolist()\n",
    "encoders = {}\n",
    "for col in categorical_cols:\n",
    "    le = LabelEncoder()\n",
    "    data[col] = le.fit_transform(data[col])\n",
    "    encoders[col] = le\n",
    "\n",
    "# Separate Features & Target, then Apply Feature Selection\n",
    "target_col = \"Label__Malicious\"\n",
    "if target_col not in data.columns:\n",
    "    raise ValueError(f\"Target column '{target_col}' not found in the dataset!\")\n",
    "    \n",
    "y = data[target_col]\n",
    "X = data.drop(columns=[target_col])"
   ]
  },
  {
   "cell_type": "markdown",
   "metadata": {},
   "source": [
    "##### Feature Selection using pearson correlation"
   ]
  },
  {
   "cell_type": "code",
   "execution_count": 17,
   "metadata": {},
   "outputs": [
    {
     "name": "stdout",
     "output_type": "stream",
     "text": [
      "\n",
      "Pearson Correlation with Target:\n",
      "Proto_tcp       0.378910\n",
      "AckDat          0.293770\n",
      "TcpRtt          0.195211\n",
      "Dur             0.162825\n",
      "dTtl_           0.138945\n",
      "dMeanPktSz      0.108514\n",
      "Cause_Status    0.105866\n",
      "State_CON       0.056073\n",
      "State_REQ       0.025951\n",
      "SynAck          0.023518\n",
      "DstLoad         0.005740\n",
      "Load            0.005732\n",
      "SrcRate         0.005529\n",
      "DstRate         0.005333\n",
      "Rate            0.004231\n",
      "SrcLoad         0.003917\n",
      "DstWin_         0.001312\n",
      "DstPkts        -0.032770\n",
      "DstBytes       -0.034669\n",
      "SrcWin_        -0.089969\n",
      "TotPkts        -0.099134\n",
      "SrcPkts        -0.111448\n",
      "TotBytes       -0.117561\n",
      "SrcBytes       -0.121247\n",
      "sHops          -0.162490\n",
      "sMeanPktSz     -0.175133\n",
      "State_INT      -0.196258\n",
      "dHops          -0.233123\n",
      "Proto_udp      -0.289052\n",
      "sTtl_          -0.419852\n",
      "Offset         -0.456065\n",
      "Seq            -0.527940\n",
      "dtype: float64\n",
      "\n",
      "Selected Features based on Pearson correlation (|corr| > 0.1):\n",
      "['Seq', 'Dur', 'sHops', 'dHops', 'SrcPkts', 'TotBytes', 'SrcBytes', 'Offset', 'sMeanPktSz', 'dMeanPktSz', 'TcpRtt', 'AckDat', 'sTtl_', 'dTtl_', 'Proto_tcp', 'Proto_udp', 'Cause_Status', 'State_INT']\n"
     ]
    }
   ],
   "source": [
    "# Feature Selection Using Pearson Correlation\n",
    "pearson_corr = X.corrwith(y)\n",
    "print(\"\\nPearson Correlation with Target:\")\n",
    "print(pearson_corr.sort_values(ascending=False))\n",
    "\n",
    "# Select features with absolute correlation > threshold (e.g., 0.1)\n",
    "threshold = 0.1\n",
    "selected_features = pearson_corr[abs(pearson_corr) > threshold].index.tolist()\n",
    "print(f\"\\nSelected Features based on Pearson correlation (|corr| > {threshold}):\")\n",
    "print(selected_features)\n",
    "X = X[selected_features]"
   ]
  },
  {
   "cell_type": "markdown",
   "metadata": {},
   "source": [
    "##### Feature Selection using Chi-square test"
   ]
  },
  {
   "cell_type": "code",
   "execution_count": 18,
   "metadata": {},
   "outputs": [
    {
     "name": "stdout",
     "output_type": "stream",
     "text": [
      "\n",
      "Chi-square Test Results:\n",
      "         Feature    Chi2 Score  p-value\n",
      "7         Offset  2.339150e+12      0.0\n",
      "0            Seq  1.198481e+10      0.0\n",
      "6       SrcBytes  4.224510e+09      0.0\n",
      "5       TotBytes  4.197740e+09      0.0\n",
      "9     dMeanPktSz  1.070118e+07      0.0\n",
      "8     sMeanPktSz  1.069171e+07      0.0\n",
      "12         sTtl_  7.949852e+06      0.0\n",
      "13         dTtl_  1.433668e+06      0.0\n",
      "4        SrcPkts  1.383413e+06      0.0\n",
      "3          dHops  1.305621e+06      0.0\n",
      "2          sHops  2.024878e+05      0.0\n",
      "14     Proto_tcp  1.345595e+05      0.0\n",
      "1            Dur  6.756040e+04      0.0\n",
      "17     State_INT  3.417022e+04      0.0\n",
      "15     Proto_udp  2.613902e+04      0.0\n",
      "16  Cause_Status  5.460666e+03      0.0\n",
      "10        TcpRtt  3.013776e+03      0.0\n",
      "11        AckDat  2.849205e+03      0.0\n"
     ]
    }
   ],
   "source": [
    "\n",
    "# Optional: Chi-square Test (for non-negative features)\n",
    "# Chi-square test requires non-negative values. If needed, ensure that features are non-negative.\n",
    "chi2_selector = SelectKBest(score_func=chi2, k='all')\n",
    "chi2_selector.fit(X, y)\n",
    "chi2_scores = chi2_selector.scores_\n",
    "chi2_pvalues = chi2_selector.pvalues_\n",
    "chi2_results = pd.DataFrame({\n",
    "    'Feature': X.columns,\n",
    "    'Chi2 Score': chi2_scores,\n",
    "    'p-value': chi2_pvalues\n",
    "}).sort_values(by='Chi2 Score', ascending=False)\n",
    "print(\"\\nChi-square Test Results:\")\n",
    "print(chi2_results)\n"
   ]
  },
  {
   "cell_type": "markdown",
   "metadata": {},
   "source": [
    "##### Data preparation"
   ]
  },
  {
   "cell_type": "code",
   "execution_count": 19,
   "metadata": {},
   "outputs": [],
   "source": [
    "import joblib"
   ]
  },
  {
   "cell_type": "code",
   "execution_count": 20,
   "metadata": {},
   "outputs": [],
   "source": [
    "scaler = StandardScaler()\n",
    "X_scaled = scaler.fit_transform(X)\n",
    "# Split into Train (60%), Validation (20%), and Test (20%) Sets\n",
    "# First, split into 60% train and 40% temporary\n",
    "X_train, X_temp, y_train, y_temp = train_test_split(X_scaled, y, test_size=0.4, random_state=42, stratify=y)\n",
    "# Then, split temporary set equally into validation and test (20% each)\n",
    "X_val, X_test, y_val, y_test = train_test_split(X_temp, y_temp, test_size=0.5, random_state=42, stratify=y_temp)"
   ]
  },
  {
   "cell_type": "code",
   "execution_count": 21,
   "metadata": {},
   "outputs": [
    {
     "name": "stdout",
     "output_type": "stream",
     "text": [
      "71792       True\n",
      "1000203     True\n",
      "844730      True\n",
      "1167840    False\n",
      "805712      True\n",
      "           ...  \n",
      "575525      True\n",
      "1151237     True\n",
      "629888      True\n",
      "871497      True\n",
      "419810     False\n",
      "Name: Label__Malicious, Length: 243178, dtype: bool\n"
     ]
    }
   ],
   "source": [
    "print(y_test)"
   ]
  },
  {
   "cell_type": "code",
   "execution_count": 22,
   "metadata": {},
   "outputs": [
    {
     "name": "stdout",
     "output_type": "stream",
     "text": [
      "243178\n",
      "243178\n"
     ]
    }
   ],
   "source": [
    "print(len(y_test))\n",
    "print(len(X_test))"
   ]
  },
  {
   "cell_type": "code",
   "execution_count": 23,
   "metadata": {},
   "outputs": [
    {
     "name": "stdout",
     "output_type": "stream",
     "text": [
      "[[-0.56918719 -0.80698017 -0.33631962 ...  0.58859231 -1.22292317\n",
      "   1.64273239]\n",
      " [-0.79517472 -0.80698017 -0.33631962 ...  0.58859231  0.81771286\n",
      "  -0.60874188]\n",
      " [-0.59375566  0.72383056 -0.33631962 ...  0.58859231  0.81771286\n",
      "  -0.60874188]\n",
      " ...\n",
      " [-0.46874241 -0.80698017 -0.33631962 ... -1.69896884  0.81771286\n",
      "  -0.60874188]\n",
      " [-0.44372388  0.71686903 -0.33631962 ...  0.58859231  0.81771286\n",
      "  -0.60874188]\n",
      " [ 1.53422291 -0.80698017 -0.33631962 ...  0.58859231  0.81771286\n",
      "  -0.60874188]]\n"
     ]
    }
   ],
   "source": [
    "print(X_test)"
   ]
  },
  {
   "cell_type": "code",
   "execution_count": 24,
   "metadata": {},
   "outputs": [
    {
     "name": "stdout",
     "output_type": "stream",
     "text": [
      "              0         1         2         3         4         5         6   \\\n",
      "0      -0.569187 -0.806980 -0.336320  0.537658 -0.146687 -0.119436 -0.101803   \n",
      "1      -0.795175 -0.806980 -0.336320  0.537658 -0.146687 -0.119436 -0.101803   \n",
      "2      -0.593756  0.723831 -0.336320  0.537658 -0.092375 -0.118044 -0.100086   \n",
      "3       0.116983 -0.806980  1.248085  0.537658 -0.146687 -0.118376 -0.100495   \n",
      "4      -0.317705 -0.806980 -0.336320  0.537658 -0.146687 -0.119436 -0.101803   \n",
      "...          ...       ...       ...       ...       ...       ...       ...   \n",
      "243173 -1.016741 -0.806980 -0.336320 -1.858232 -0.200999 -0.118641 -0.103519   \n",
      "243174 -0.160128 -0.806980 -0.336320 -1.858232 -0.146687 -0.116454 -0.100822   \n",
      "243175 -0.468742 -0.806980 -0.336320 -1.858232 -0.146687 -0.116454 -0.100822   \n",
      "243176 -0.443724  0.716869 -0.336320  0.537658 -0.092375 -0.118044 -0.100086   \n",
      "243177  1.534223 -0.806980 -0.336320  0.537658 -0.146687 -0.119436 -0.101803   \n",
      "\n",
      "              7         8         9         10        11        12        13  \\\n",
      "0      -0.984536 -0.219766 -0.287764 -0.267943 -0.388022 -0.322907 -0.487729   \n",
      "1       0.613794 -0.219766 -0.287764 -0.267943 -0.388022 -0.322907 -0.487729   \n",
      "2      -0.610871 -0.219766 -0.287764 -0.267943 -0.388022 -0.322907 -0.487729   \n",
      "3       0.432426 -0.000086 -0.287764 -0.267943 -0.388022  3.077583 -0.487729   \n",
      "4      -0.918378 -0.219766 -0.287764 -0.267943 -0.388022 -0.322907 -0.487729   \n",
      "...          ...       ...       ...       ...       ...       ...       ...   \n",
      "243173 -0.943671 -0.508096  0.019098  2.780973  4.441478 -0.322907  1.492897   \n",
      "243174  0.162400 -0.055006  0.019098  1.460639  2.348533 -0.322907  1.492897   \n",
      "243175  0.091608 -0.055006  0.019098  4.319174  6.890159 -0.322907  1.492897   \n",
      "243176 -0.399930 -0.219766 -0.287764 -0.267943 -0.388022 -0.322907 -0.487729   \n",
      "243177  1.769223 -0.219766 -0.287764 -0.267943 -0.388022 -0.322907 -0.487729   \n",
      "\n",
      "              14        15        16        17  \n",
      "0      -0.545287  0.588592 -1.222923  1.642732  \n",
      "1      -0.545287  0.588592  0.817713 -0.608742  \n",
      "2      -0.545287  0.588592  0.817713 -0.608742  \n",
      "3      -0.545287  0.588592 -1.222923  1.642732  \n",
      "4      -0.545287  0.588592 -1.222923  1.642732  \n",
      "...          ...       ...       ...       ...  \n",
      "243173  1.833896 -1.698969  0.817713 -0.608742  \n",
      "243174  1.833896 -1.698969  0.817713 -0.608742  \n",
      "243175  1.833896 -1.698969  0.817713 -0.608742  \n",
      "243176 -0.545287  0.588592  0.817713 -0.608742  \n",
      "243177 -0.545287  0.588592  0.817713 -0.608742  \n",
      "\n",
      "[243178 rows x 18 columns]\n"
     ]
    }
   ],
   "source": [
    "test_data=pd.DataFrame(X_test)\n",
    "# test_data['y']=y_test\n",
    "print(test_data)\n"
   ]
  },
  {
   "cell_type": "code",
   "execution_count": 25,
   "metadata": {},
   "outputs": [],
   "source": [
    "test_data = test_data.reset_index(drop=True)"
   ]
  },
  {
   "cell_type": "code",
   "execution_count": 26,
   "metadata": {},
   "outputs": [],
   "source": [
    "test_data[\"y\"] = pd.Series(y_test).reset_index(drop=True)"
   ]
  },
  {
   "cell_type": "code",
   "execution_count": 27,
   "metadata": {},
   "outputs": [
    {
     "name": "stdout",
     "output_type": "stream",
     "text": [
      "               0         1         2         3         4         5         6  \\\n",
      "0      -0.569187 -0.806980 -0.336320  0.537658 -0.146687 -0.119436 -0.101803   \n",
      "1      -0.795175 -0.806980 -0.336320  0.537658 -0.146687 -0.119436 -0.101803   \n",
      "2      -0.593756  0.723831 -0.336320  0.537658 -0.092375 -0.118044 -0.100086   \n",
      "3       0.116983 -0.806980  1.248085  0.537658 -0.146687 -0.118376 -0.100495   \n",
      "4      -0.317705 -0.806980 -0.336320  0.537658 -0.146687 -0.119436 -0.101803   \n",
      "...          ...       ...       ...       ...       ...       ...       ...   \n",
      "243173 -1.016741 -0.806980 -0.336320 -1.858232 -0.200999 -0.118641 -0.103519   \n",
      "243174 -0.160128 -0.806980 -0.336320 -1.858232 -0.146687 -0.116454 -0.100822   \n",
      "243175 -0.468742 -0.806980 -0.336320 -1.858232 -0.146687 -0.116454 -0.100822   \n",
      "243176 -0.443724  0.716869 -0.336320  0.537658 -0.092375 -0.118044 -0.100086   \n",
      "243177  1.534223 -0.806980 -0.336320  0.537658 -0.146687 -0.119436 -0.101803   \n",
      "\n",
      "               7         8         9        10        11        12        13  \\\n",
      "0      -0.984536 -0.219766 -0.287764 -0.267943 -0.388022 -0.322907 -0.487729   \n",
      "1       0.613794 -0.219766 -0.287764 -0.267943 -0.388022 -0.322907 -0.487729   \n",
      "2      -0.610871 -0.219766 -0.287764 -0.267943 -0.388022 -0.322907 -0.487729   \n",
      "3       0.432426 -0.000086 -0.287764 -0.267943 -0.388022  3.077583 -0.487729   \n",
      "4      -0.918378 -0.219766 -0.287764 -0.267943 -0.388022 -0.322907 -0.487729   \n",
      "...          ...       ...       ...       ...       ...       ...       ...   \n",
      "243173 -0.943671 -0.508096  0.019098  2.780973  4.441478 -0.322907  1.492897   \n",
      "243174  0.162400 -0.055006  0.019098  1.460639  2.348533 -0.322907  1.492897   \n",
      "243175  0.091608 -0.055006  0.019098  4.319174  6.890159 -0.322907  1.492897   \n",
      "243176 -0.399930 -0.219766 -0.287764 -0.267943 -0.388022 -0.322907 -0.487729   \n",
      "243177  1.769223 -0.219766 -0.287764 -0.267943 -0.388022 -0.322907 -0.487729   \n",
      "\n",
      "              14        15        16        17      y  \n",
      "0      -0.545287  0.588592 -1.222923  1.642732   True  \n",
      "1      -0.545287  0.588592  0.817713 -0.608742   True  \n",
      "2      -0.545287  0.588592  0.817713 -0.608742   True  \n",
      "3      -0.545287  0.588592 -1.222923  1.642732  False  \n",
      "4      -0.545287  0.588592 -1.222923  1.642732   True  \n",
      "...          ...       ...       ...       ...    ...  \n",
      "243173  1.833896 -1.698969  0.817713 -0.608742   True  \n",
      "243174  1.833896 -1.698969  0.817713 -0.608742   True  \n",
      "243175  1.833896 -1.698969  0.817713 -0.608742   True  \n",
      "243176 -0.545287  0.588592  0.817713 -0.608742   True  \n",
      "243177 -0.545287  0.588592  0.817713 -0.608742  False  \n",
      "\n",
      "[243178 rows x 19 columns]\n"
     ]
    }
   ],
   "source": [
    "print(test_data)"
   ]
  },
  {
   "cell_type": "code",
   "execution_count": 28,
   "metadata": {},
   "outputs": [
    {
     "name": "stdout",
     "output_type": "stream",
     "text": [
      "0          True\n",
      "1          True\n",
      "2          True\n",
      "3         False\n",
      "4          True\n",
      "          ...  \n",
      "243173     True\n",
      "243174     True\n",
      "243175     True\n",
      "243176     True\n",
      "243177    False\n",
      "Name: y, Length: 243178, dtype: bool\n"
     ]
    }
   ],
   "source": [
    "print(test_data[\"y\"])"
   ]
  },
  {
   "cell_type": "code",
   "execution_count": 29,
   "metadata": {},
   "outputs": [],
   "source": [
    "test_data.to_csv(\"../dataset/TestData.csv\")"
   ]
  },
  {
   "cell_type": "code",
   "execution_count": 30,
   "metadata": {},
   "outputs": [
    {
     "name": "stdout",
     "output_type": "stream",
     "text": [
      "Scaler saved as 'scaler.pkl'\n"
     ]
    }
   ],
   "source": [
    "joblib.dump(scaler, \"scaler.pkl\")\n",
    "print(\"Scaler saved as 'scaler.pkl'\")"
   ]
  },
  {
   "cell_type": "code",
   "execution_count": 31,
   "metadata": {},
   "outputs": [
    {
     "name": "stdout",
     "output_type": "stream",
     "text": [
      "\n",
      "Shapes:\n",
      "Train: (729534, 18), Validation: (243178, 18), Test: (243178, 18)\n",
      "\n",
      "Shapes:\n",
      "Train: (729534,), Validation: (243178,), Test: (243178,)\n"
     ]
    }
   ],
   "source": [
    "print(f\"\\nShapes:\\nTrain: {X_train.shape}, Validation: {X_val.shape}, Test: {X_test.shape}\")\n",
    "print(f\"\\nShapes:\\nTrain: {y_train.shape}, Validation: {y_val.shape}, Test: {y_test.shape}\")"
   ]
  },
  {
   "cell_type": "markdown",
   "metadata": {},
   "source": [
    "##### Normalize/Scale the Features and encode label"
   ]
  },
  {
   "cell_type": "code",
   "execution_count": 32,
   "metadata": {},
   "outputs": [
    {
     "name": "stdout",
     "output_type": "stream",
     "text": [
      "[[-0.56918719 -0.80698017 -0.33631962 ...  0.58859231 -1.22292317\n",
      "   1.64273239]\n",
      " [-0.79517472 -0.80698017 -0.33631962 ...  0.58859231  0.81771286\n",
      "  -0.60874188]\n",
      " [-0.59375566  0.72383056 -0.33631962 ...  0.58859231  0.81771286\n",
      "  -0.60874188]\n",
      " ...\n",
      " [-0.46874241 -0.80698017 -0.33631962 ... -1.69896884  0.81771286\n",
      "  -0.60874188]\n",
      " [-0.44372388  0.71686903 -0.33631962 ...  0.58859231  0.81771286\n",
      "  -0.60874188]\n",
      " [ 1.53422291 -0.80698017 -0.33631962 ...  0.58859231  0.81771286\n",
      "  -0.60874188]]\n"
     ]
    }
   ],
   "source": [
    "print(X_test)"
   ]
  },
  {
   "cell_type": "code",
   "execution_count": 33,
   "metadata": {},
   "outputs": [
    {
     "name": "stdout",
     "output_type": "stream",
     "text": [
      "1060752    False\n",
      "794047      True\n",
      "851251      True\n",
      "595065      True\n",
      "286790     False\n",
      "           ...  \n",
      "136778      True\n",
      "840737      True\n",
      "929654      True\n",
      "331776     False\n",
      "706469      True\n",
      "Name: Label__Malicious, Length: 729534, dtype: bool\n"
     ]
    }
   ],
   "source": [
    "print(y_train)"
   ]
  },
  {
   "cell_type": "markdown",
   "metadata": {},
   "source": [
    "##### Build & Train the Neural Network with Regularization"
   ]
  },
  {
   "cell_type": "code",
   "execution_count": 34,
   "metadata": {},
   "outputs": [],
   "source": [
    "from tensorflow.keras.layers import BatchNormalization, Activation"
   ]
  },
  {
   "cell_type": "code",
   "execution_count": 35,
   "metadata": {},
   "outputs": [
    {
     "name": "stderr",
     "output_type": "stream",
     "text": [
      "C:\\Users\\Satyam Gupta\\AppData\\Roaming\\Python\\Python312\\site-packages\\keras\\src\\layers\\core\\dense.py:87: UserWarning: Do not pass an `input_shape`/`input_dim` argument to a layer. When using Sequential models, prefer using an `Input(shape)` object as the first layer in the model instead.\n",
      "  super().__init__(activity_regularizer=activity_regularizer, **kwargs)\n"
     ]
    },
    {
     "data": {
      "text/html": [
       "<pre style=\"white-space:pre;overflow-x:auto;line-height:normal;font-family:Menlo,'DejaVu Sans Mono',consolas,'Courier New',monospace\"><span style=\"font-weight: bold\">Model: \"sequential_3\"</span>\n",
       "</pre>\n"
      ],
      "text/plain": [
       "\u001b[1mModel: \"sequential_3\"\u001b[0m\n"
      ]
     },
     "metadata": {},
     "output_type": "display_data"
    },
    {
     "data": {
      "text/html": [
       "<pre style=\"white-space:pre;overflow-x:auto;line-height:normal;font-family:Menlo,'DejaVu Sans Mono',consolas,'Courier New',monospace\">┏━━━━━━━━━━━━━━━━━━━━━━━━━━━━━━━━━┳━━━━━━━━━━━━━━━━━━━━━━━━┳━━━━━━━━━━━━━━━┓\n",
       "┃<span style=\"font-weight: bold\"> Layer (type)                    </span>┃<span style=\"font-weight: bold\"> Output Shape           </span>┃<span style=\"font-weight: bold\">       Param # </span>┃\n",
       "┡━━━━━━━━━━━━━━━━━━━━━━━━━━━━━━━━━╇━━━━━━━━━━━━━━━━━━━━━━━━╇━━━━━━━━━━━━━━━┩\n",
       "│ dense_9 (<span style=\"color: #0087ff; text-decoration-color: #0087ff\">Dense</span>)                 │ (<span style=\"color: #00d7ff; text-decoration-color: #00d7ff\">None</span>, <span style=\"color: #00af00; text-decoration-color: #00af00\">64</span>)             │         <span style=\"color: #00af00; text-decoration-color: #00af00\">1,152</span> │\n",
       "├─────────────────────────────────┼────────────────────────┼───────────────┤\n",
       "│ batch_normalization             │ (<span style=\"color: #00d7ff; text-decoration-color: #00d7ff\">None</span>, <span style=\"color: #00af00; text-decoration-color: #00af00\">64</span>)             │           <span style=\"color: #00af00; text-decoration-color: #00af00\">256</span> │\n",
       "│ (<span style=\"color: #0087ff; text-decoration-color: #0087ff\">BatchNormalization</span>)            │                        │               │\n",
       "├─────────────────────────────────┼────────────────────────┼───────────────┤\n",
       "│ activation (<span style=\"color: #0087ff; text-decoration-color: #0087ff\">Activation</span>)         │ (<span style=\"color: #00d7ff; text-decoration-color: #00d7ff\">None</span>, <span style=\"color: #00af00; text-decoration-color: #00af00\">64</span>)             │             <span style=\"color: #00af00; text-decoration-color: #00af00\">0</span> │\n",
       "├─────────────────────────────────┼────────────────────────┼───────────────┤\n",
       "│ dropout_6 (<span style=\"color: #0087ff; text-decoration-color: #0087ff\">Dropout</span>)             │ (<span style=\"color: #00d7ff; text-decoration-color: #00d7ff\">None</span>, <span style=\"color: #00af00; text-decoration-color: #00af00\">64</span>)             │             <span style=\"color: #00af00; text-decoration-color: #00af00\">0</span> │\n",
       "├─────────────────────────────────┼────────────────────────┼───────────────┤\n",
       "│ dense_10 (<span style=\"color: #0087ff; text-decoration-color: #0087ff\">Dense</span>)                │ (<span style=\"color: #00d7ff; text-decoration-color: #00d7ff\">None</span>, <span style=\"color: #00af00; text-decoration-color: #00af00\">32</span>)             │         <span style=\"color: #00af00; text-decoration-color: #00af00\">2,048</span> │\n",
       "├─────────────────────────────────┼────────────────────────┼───────────────┤\n",
       "│ batch_normalization_1           │ (<span style=\"color: #00d7ff; text-decoration-color: #00d7ff\">None</span>, <span style=\"color: #00af00; text-decoration-color: #00af00\">32</span>)             │           <span style=\"color: #00af00; text-decoration-color: #00af00\">128</span> │\n",
       "│ (<span style=\"color: #0087ff; text-decoration-color: #0087ff\">BatchNormalization</span>)            │                        │               │\n",
       "├─────────────────────────────────┼────────────────────────┼───────────────┤\n",
       "│ activation_1 (<span style=\"color: #0087ff; text-decoration-color: #0087ff\">Activation</span>)       │ (<span style=\"color: #00d7ff; text-decoration-color: #00d7ff\">None</span>, <span style=\"color: #00af00; text-decoration-color: #00af00\">32</span>)             │             <span style=\"color: #00af00; text-decoration-color: #00af00\">0</span> │\n",
       "├─────────────────────────────────┼────────────────────────┼───────────────┤\n",
       "│ dropout_7 (<span style=\"color: #0087ff; text-decoration-color: #0087ff\">Dropout</span>)             │ (<span style=\"color: #00d7ff; text-decoration-color: #00d7ff\">None</span>, <span style=\"color: #00af00; text-decoration-color: #00af00\">32</span>)             │             <span style=\"color: #00af00; text-decoration-color: #00af00\">0</span> │\n",
       "├─────────────────────────────────┼────────────────────────┼───────────────┤\n",
       "│ dense_11 (<span style=\"color: #0087ff; text-decoration-color: #0087ff\">Dense</span>)                │ (<span style=\"color: #00d7ff; text-decoration-color: #00d7ff\">None</span>, <span style=\"color: #00af00; text-decoration-color: #00af00\">1</span>)              │            <span style=\"color: #00af00; text-decoration-color: #00af00\">33</span> │\n",
       "└─────────────────────────────────┴────────────────────────┴───────────────┘\n",
       "</pre>\n"
      ],
      "text/plain": [
       "┏━━━━━━━━━━━━━━━━━━━━━━━━━━━━━━━━━┳━━━━━━━━━━━━━━━━━━━━━━━━┳━━━━━━━━━━━━━━━┓\n",
       "┃\u001b[1m \u001b[0m\u001b[1mLayer (type)                   \u001b[0m\u001b[1m \u001b[0m┃\u001b[1m \u001b[0m\u001b[1mOutput Shape          \u001b[0m\u001b[1m \u001b[0m┃\u001b[1m \u001b[0m\u001b[1m      Param #\u001b[0m\u001b[1m \u001b[0m┃\n",
       "┡━━━━━━━━━━━━━━━━━━━━━━━━━━━━━━━━━╇━━━━━━━━━━━━━━━━━━━━━━━━╇━━━━━━━━━━━━━━━┩\n",
       "│ dense_9 (\u001b[38;5;33mDense\u001b[0m)                 │ (\u001b[38;5;45mNone\u001b[0m, \u001b[38;5;34m64\u001b[0m)             │         \u001b[38;5;34m1,152\u001b[0m │\n",
       "├─────────────────────────────────┼────────────────────────┼───────────────┤\n",
       "│ batch_normalization             │ (\u001b[38;5;45mNone\u001b[0m, \u001b[38;5;34m64\u001b[0m)             │           \u001b[38;5;34m256\u001b[0m │\n",
       "│ (\u001b[38;5;33mBatchNormalization\u001b[0m)            │                        │               │\n",
       "├─────────────────────────────────┼────────────────────────┼───────────────┤\n",
       "│ activation (\u001b[38;5;33mActivation\u001b[0m)         │ (\u001b[38;5;45mNone\u001b[0m, \u001b[38;5;34m64\u001b[0m)             │             \u001b[38;5;34m0\u001b[0m │\n",
       "├─────────────────────────────────┼────────────────────────┼───────────────┤\n",
       "│ dropout_6 (\u001b[38;5;33mDropout\u001b[0m)             │ (\u001b[38;5;45mNone\u001b[0m, \u001b[38;5;34m64\u001b[0m)             │             \u001b[38;5;34m0\u001b[0m │\n",
       "├─────────────────────────────────┼────────────────────────┼───────────────┤\n",
       "│ dense_10 (\u001b[38;5;33mDense\u001b[0m)                │ (\u001b[38;5;45mNone\u001b[0m, \u001b[38;5;34m32\u001b[0m)             │         \u001b[38;5;34m2,048\u001b[0m │\n",
       "├─────────────────────────────────┼────────────────────────┼───────────────┤\n",
       "│ batch_normalization_1           │ (\u001b[38;5;45mNone\u001b[0m, \u001b[38;5;34m32\u001b[0m)             │           \u001b[38;5;34m128\u001b[0m │\n",
       "│ (\u001b[38;5;33mBatchNormalization\u001b[0m)            │                        │               │\n",
       "├─────────────────────────────────┼────────────────────────┼───────────────┤\n",
       "│ activation_1 (\u001b[38;5;33mActivation\u001b[0m)       │ (\u001b[38;5;45mNone\u001b[0m, \u001b[38;5;34m32\u001b[0m)             │             \u001b[38;5;34m0\u001b[0m │\n",
       "├─────────────────────────────────┼────────────────────────┼───────────────┤\n",
       "│ dropout_7 (\u001b[38;5;33mDropout\u001b[0m)             │ (\u001b[38;5;45mNone\u001b[0m, \u001b[38;5;34m32\u001b[0m)             │             \u001b[38;5;34m0\u001b[0m │\n",
       "├─────────────────────────────────┼────────────────────────┼───────────────┤\n",
       "│ dense_11 (\u001b[38;5;33mDense\u001b[0m)                │ (\u001b[38;5;45mNone\u001b[0m, \u001b[38;5;34m1\u001b[0m)              │            \u001b[38;5;34m33\u001b[0m │\n",
       "└─────────────────────────────────┴────────────────────────┴───────────────┘\n"
      ]
     },
     "metadata": {},
     "output_type": "display_data"
    },
    {
     "data": {
      "text/html": [
       "<pre style=\"white-space:pre;overflow-x:auto;line-height:normal;font-family:Menlo,'DejaVu Sans Mono',consolas,'Courier New',monospace\"><span style=\"font-weight: bold\"> Total params: </span><span style=\"color: #00af00; text-decoration-color: #00af00\">3,617</span> (14.13 KB)\n",
       "</pre>\n"
      ],
      "text/plain": [
       "\u001b[1m Total params: \u001b[0m\u001b[38;5;34m3,617\u001b[0m (14.13 KB)\n"
      ]
     },
     "metadata": {},
     "output_type": "display_data"
    },
    {
     "data": {
      "text/html": [
       "<pre style=\"white-space:pre;overflow-x:auto;line-height:normal;font-family:Menlo,'DejaVu Sans Mono',consolas,'Courier New',monospace\"><span style=\"font-weight: bold\"> Trainable params: </span><span style=\"color: #00af00; text-decoration-color: #00af00\">3,425</span> (13.38 KB)\n",
       "</pre>\n"
      ],
      "text/plain": [
       "\u001b[1m Trainable params: \u001b[0m\u001b[38;5;34m3,425\u001b[0m (13.38 KB)\n"
      ]
     },
     "metadata": {},
     "output_type": "display_data"
    },
    {
     "data": {
      "text/html": [
       "<pre style=\"white-space:pre;overflow-x:auto;line-height:normal;font-family:Menlo,'DejaVu Sans Mono',consolas,'Courier New',monospace\"><span style=\"font-weight: bold\"> Non-trainable params: </span><span style=\"color: #00af00; text-decoration-color: #00af00\">192</span> (768.00 B)\n",
       "</pre>\n"
      ],
      "text/plain": [
       "\u001b[1m Non-trainable params: \u001b[0m\u001b[38;5;34m192\u001b[0m (768.00 B)\n"
      ]
     },
     "metadata": {},
     "output_type": "display_data"
    }
   ],
   "source": [
    "model = Sequential([\n",
    "    # First layer: Dense + BatchNorm + Activation + Dropout\n",
    "    Dense(64, use_bias=False, kernel_regularizer=l2(0.001), input_shape=(X_train.shape[1],)),\n",
    "    BatchNormalization(),\n",
    "    Activation('relu'),\n",
    "    Dropout(0.3),\n",
    "    \n",
    "    # Second layer: Dense + BatchNorm + Activation + Dropout\n",
    "    Dense(32, use_bias=False, kernel_regularizer=l2(0.001)),\n",
    "    BatchNormalization(),\n",
    "    Activation('relu'),\n",
    "    Dropout(0.3),\n",
    "    \n",
    "    # Output layer remains unchanged\n",
    "    Dense(1, activation='sigmoid')  # For binary classification\n",
    "])\n",
    "model.compile(optimizer='adam', loss='binary_crossentropy', metrics=['accuracy'])\n",
    "\n",
    "model.summary()"
   ]
  },
  {
   "cell_type": "code",
   "execution_count": 36,
   "metadata": {},
   "outputs": [
    {
     "name": "stdout",
     "output_type": "stream",
     "text": [
      "Epoch 1/20\n",
      "\u001b[1m22798/22798\u001b[0m \u001b[32m━━━━━━━━━━━━━━━━━━━━\u001b[0m\u001b[37m\u001b[0m \u001b[1m29s\u001b[0m 1ms/step - accuracy: 0.9720 - loss: 0.1145 - val_accuracy: 0.9923 - val_loss: 0.0521\n",
      "Epoch 2/20\n",
      "\u001b[1m22798/22798\u001b[0m \u001b[32m━━━━━━━━━━━━━━━━━━━━\u001b[0m\u001b[37m\u001b[0m \u001b[1m23s\u001b[0m 1ms/step - accuracy: 0.9824 - loss: 0.0690 - val_accuracy: 0.9897 - val_loss: 0.0438\n",
      "Epoch 3/20\n",
      "\u001b[1m22798/22798\u001b[0m \u001b[32m━━━━━━━━━━━━━━━━━━━━\u001b[0m\u001b[37m\u001b[0m \u001b[1m23s\u001b[0m 1ms/step - accuracy: 0.9839 - loss: 0.0642 - val_accuracy: 0.9907 - val_loss: 0.0412\n",
      "Epoch 4/20\n",
      "\u001b[1m22798/22798\u001b[0m \u001b[32m━━━━━━━━━━━━━━━━━━━━\u001b[0m\u001b[37m\u001b[0m \u001b[1m24s\u001b[0m 1ms/step - accuracy: 0.9847 - loss: 0.0618 - val_accuracy: 0.9892 - val_loss: 0.0418\n",
      "Epoch 5/20\n",
      "\u001b[1m22798/22798\u001b[0m \u001b[32m━━━━━━━━━━━━━━━━━━━━\u001b[0m\u001b[37m\u001b[0m \u001b[1m24s\u001b[0m 1ms/step - accuracy: 0.9851 - loss: 0.0607 - val_accuracy: 0.9927 - val_loss: 0.0374\n",
      "Epoch 6/20\n",
      "\u001b[1m22798/22798\u001b[0m \u001b[32m━━━━━━━━━━━━━━━━━━━━\u001b[0m\u001b[37m\u001b[0m \u001b[1m25s\u001b[0m 1ms/step - accuracy: 0.9851 - loss: 0.0599 - val_accuracy: 0.9935 - val_loss: 0.0428\n",
      "Epoch 7/20\n",
      "\u001b[1m22798/22798\u001b[0m \u001b[32m━━━━━━━━━━━━━━━━━━━━\u001b[0m\u001b[37m\u001b[0m \u001b[1m24s\u001b[0m 1ms/step - accuracy: 0.9851 - loss: 0.0601 - val_accuracy: 0.9913 - val_loss: 0.0422\n",
      "Epoch 8/20\n",
      "\u001b[1m22798/22798\u001b[0m \u001b[32m━━━━━━━━━━━━━━━━━━━━\u001b[0m\u001b[37m\u001b[0m \u001b[1m24s\u001b[0m 1ms/step - accuracy: 0.9853 - loss: 0.0598 - val_accuracy: 0.9922 - val_loss: 0.0389\n",
      "Epoch 9/20\n",
      "\u001b[1m22798/22798\u001b[0m \u001b[32m━━━━━━━━━━━━━━━━━━━━\u001b[0m\u001b[37m\u001b[0m \u001b[1m29s\u001b[0m 1ms/step - accuracy: 0.9853 - loss: 0.0601 - val_accuracy: 0.9924 - val_loss: 0.0412\n",
      "Epoch 10/20\n",
      "\u001b[1m22798/22798\u001b[0m \u001b[32m━━━━━━━━━━━━━━━━━━━━\u001b[0m\u001b[37m\u001b[0m \u001b[1m32s\u001b[0m 1ms/step - accuracy: 0.9849 - loss: 0.0606 - val_accuracy: 0.9937 - val_loss: 0.0414\n",
      "Epoch 11/20\n",
      "\u001b[1m22798/22798\u001b[0m \u001b[32m━━━━━━━━━━━━━━━━━━━━\u001b[0m\u001b[37m\u001b[0m \u001b[1m32s\u001b[0m 1ms/step - accuracy: 0.9854 - loss: 0.0591 - val_accuracy: 0.9929 - val_loss: 0.0399\n",
      "Epoch 12/20\n",
      "\u001b[1m22798/22798\u001b[0m \u001b[32m━━━━━━━━━━━━━━━━━━━━\u001b[0m\u001b[37m\u001b[0m \u001b[1m27s\u001b[0m 1ms/step - accuracy: 0.9857 - loss: 0.0586 - val_accuracy: 0.9929 - val_loss: 0.0417\n",
      "Epoch 13/20\n",
      "\u001b[1m22798/22798\u001b[0m \u001b[32m━━━━━━━━━━━━━━━━━━━━\u001b[0m\u001b[37m\u001b[0m \u001b[1m24s\u001b[0m 1ms/step - accuracy: 0.9856 - loss: 0.0593 - val_accuracy: 0.9897 - val_loss: 0.0392\n",
      "Epoch 14/20\n",
      "\u001b[1m22798/22798\u001b[0m \u001b[32m━━━━━━━━━━━━━━━━━━━━\u001b[0m\u001b[37m\u001b[0m \u001b[1m24s\u001b[0m 1ms/step - accuracy: 0.9854 - loss: 0.0587 - val_accuracy: 0.9922 - val_loss: 0.0408\n",
      "Epoch 15/20\n",
      "\u001b[1m22798/22798\u001b[0m \u001b[32m━━━━━━━━━━━━━━━━━━━━\u001b[0m\u001b[37m\u001b[0m \u001b[1m24s\u001b[0m 1ms/step - accuracy: 0.9853 - loss: 0.0597 - val_accuracy: 0.9919 - val_loss: 0.0415\n",
      "Epoch 16/20\n",
      "\u001b[1m22798/22798\u001b[0m \u001b[32m━━━━━━━━━━━━━━━━━━━━\u001b[0m\u001b[37m\u001b[0m \u001b[1m24s\u001b[0m 1ms/step - accuracy: 0.9853 - loss: 0.0597 - val_accuracy: 0.9903 - val_loss: 0.0431\n",
      "Epoch 17/20\n",
      "\u001b[1m22798/22798\u001b[0m \u001b[32m━━━━━━━━━━━━━━━━━━━━\u001b[0m\u001b[37m\u001b[0m \u001b[1m24s\u001b[0m 1ms/step - accuracy: 0.9854 - loss: 0.0595 - val_accuracy: 0.9933 - val_loss: 0.0364\n",
      "Epoch 18/20\n",
      "\u001b[1m22798/22798\u001b[0m \u001b[32m━━━━━━━━━━━━━━━━━━━━\u001b[0m\u001b[37m\u001b[0m \u001b[1m24s\u001b[0m 1ms/step - accuracy: 0.9854 - loss: 0.0599 - val_accuracy: 0.9918 - val_loss: 0.0453\n",
      "Epoch 19/20\n",
      "\u001b[1m22798/22798\u001b[0m \u001b[32m━━━━━━━━━━━━━━━━━━━━\u001b[0m\u001b[37m\u001b[0m \u001b[1m25s\u001b[0m 1ms/step - accuracy: 0.9852 - loss: 0.0594 - val_accuracy: 0.9903 - val_loss: 0.0448\n",
      "Epoch 20/20\n",
      "\u001b[1m22798/22798\u001b[0m \u001b[32m━━━━━━━━━━━━━━━━━━━━\u001b[0m\u001b[37m\u001b[0m \u001b[1m25s\u001b[0m 1ms/step - accuracy: 0.9852 - loss: 0.0591 - val_accuracy: 0.9902 - val_loss: 0.0469\n"
     ]
    }
   ],
   "source": [
    "# Train the model with validation monitoring\n",
    "history = model.fit(X_train, y_train, \n",
    "                    validation_data=(X_val, y_val),\n",
    "                    epochs=20, \n",
    "                    batch_size=32,\n",
    "                    verbose=1)"
   ]
  },
  {
   "cell_type": "code",
   "execution_count": 37,
   "metadata": {},
   "outputs": [
    {
     "data": {
      "image/png": "[encoded data removed]",
      "text/plain": [
       "<Figure size 800x600 with 1 Axes>"
      ]
     },
     "metadata": {},
     "output_type": "display_data"
    }
   ],
   "source": [
    "#Plot Training and Validation Loss Curves\n",
    "plt.figure(figsize=(8, 6))\n",
    "plt.plot(history.history['loss'], label='Training Loss')\n",
    "plt.plot(history.history['val_loss'], label='Validation Loss')\n",
    "plt.title(\"Training vs. Validation Loss\")\n",
    "plt.xlabel(\"Epoch\")\n",
    "plt.ylabel(\"Loss\")\n",
    "plt.legend()\n",
    "plt.show()"
   ]
  },
  {
   "cell_type": "markdown",
   "metadata": {},
   "source": [
    "### Evaluate the Model on the Test Set"
   ]
  },
  {
   "cell_type": "code",
   "execution_count": 38,
   "metadata": {},
   "outputs": [
    {
     "name": "stdout",
     "output_type": "stream",
     "text": [
      "\n",
      "Test Loss: 0.0493\n",
      "Test Accuracy: 0.9902\n"
     ]
    }
   ],
   "source": [
    "test_loss, test_accuracy = model.evaluate(X_test, y_test, verbose=0)\n",
    "print(f\"\\nTest Loss: {test_loss:.4f}\")\n",
    "print(f\"Test Accuracy: {test_accuracy:.4f}\")"
   ]
  },
  {
   "cell_type": "markdown",
   "metadata": {},
   "source": [
    "##### Save the model"
   ]
  },
  {
   "cell_type": "code",
   "execution_count": 40,
   "metadata": {},
   "outputs": [],
   "source": [
    "model.save(\"neural_net_model.keras\")"
   ]
  }
 ],
 "metadata": {
  "kernelspec": {
   "display_name": "Python 3",
   "language": "python",
   "name": "python3"
  },
  "language_info": {
   "codemirror_mode": {
    "name": "ipython",
    "version": 3
   },
   "file_extension": ".py",
   "mimetype": "text/x-python",
   "name": "python",
   "nbconvert_exporter": "python",
   "pygments_lexer": "ipython3",
   "version": "3.12.3"
  }
 },
 "nbformat": 4,
 "nbformat_minor": 2
}
